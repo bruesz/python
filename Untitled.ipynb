{
 "cells": [
  {
   "cell_type": "code",
   "execution_count": 2,
   "metadata": {},
   "outputs": [
    {
     "name": "stdout",
     "output_type": "stream",
     "text": [
      " hello python\n"
     ]
    }
   ],
   "source": [
    "print(\" hello python\")"
   ]
  },
  {
   "cell_type": "markdown",
   "metadata": {},
   "source": [
    "# H1\n",
    "## h2\n",
    "### h3\n",
    "#### h4\n",
    "##### h5\n",
    "###### h6\n",
    "- 序列\n",
    "- 序列\n",
    "- 序列\n",
    "\n",
    "* 列表\n",
    "* 列表\n",
    "\n",
    "\n",
    "- 列表1 \n",
    "    - 列表2\n",
    "    - 列表2 \n",
    "        - 列表3\n",
    "            - 列表4\n",
    "                - 列表5\n",
    "                    - 列表6\n",
    "[这是一个链接](http://www.baidu.com)\n",
    "\n",
    "图片：\n",
    "![百度图片](https://ss1.bdstatic.com/70cFvXSh_Q1YnxGkpoWK1HF6hhy/it/u=2944189484,716046323&fm=26&gp=0.jpg)\n",
    "\n",
    "引用\n",
    "> 一盏灯，一片昏黄...\n",
    "> 这是一个引用标记"
   ]
  }
 ],
 "metadata": {
  "kernelspec": {
   "display_name": "Python 3",
   "language": "python",
   "name": "python3"
  },
  "language_info": {
   "codemirror_mode": {
    "name": "ipython",
    "version": 3
   },
   "file_extension": ".py",
   "mimetype": "text/x-python",
   "name": "python",
   "nbconvert_exporter": "python",
   "pygments_lexer": "ipython3",
   "version": "3.6.5"
  }
 },
 "nbformat": 4,
 "nbformat_minor": 2
}
