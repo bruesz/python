{
 "cells": [
  {
   "cell_type": "markdown",
   "metadata": {},
   "source": [
    "# 关于元组的函数\n",
    "- 看代码\n",
    "- 以下函数，对list基本适用"
   ]
  },
  {
   "cell_type": "code",
   "execution_count": 14,
   "metadata": {},
   "outputs": [
    {
     "name": "stdout",
     "output_type": "stream",
     "text": [
      "6\n",
      "2\n",
      "(1, 2, 3, 4, 5)\n",
      "()\n",
      "3\n",
      "0\n",
      "2\n"
     ]
    }
   ],
   "source": [
    "#关于元组的函数\n",
    "#len, 获取元组的长度\n",
    "\n",
    "t = (2,3,4,6,2)\n",
    "len(t)\n",
    "\n",
    "# max,min:最大最小值\n",
    "# 如果列表元组中有多个最大最小值，则实际打印出哪个？ \n",
    "print(max(t))\n",
    "print(min(t))\n",
    "\n",
    "l = [1,2,3,4,5]\n",
    "t = tuple(l)\n",
    "\n",
    "print(t)\n",
    "\n",
    "t = tuple()\n",
    "print(t)\n",
    "\n",
    "\n",
    "#count: 计算指定数据出现的次数\n",
    "t = (2,3,4,6,2,3,3,2)\n",
    "print(t.count(2))\n",
    "\n",
    "# index:求指定元素在元组中的索引的位置\n",
    "#如果需要查找的数值是多个，则返回第一个\n",
    "\n",
    "print(t.index(2))\n",
    "print(t.index(4))"
   ]
  },
  {
   "cell_type": "code",
   "execution_count": 18,
   "metadata": {},
   "outputs": [
    {
     "name": "stdout",
     "output_type": "stream",
     "text": [
      "3\n",
      "1\n",
      "[3, 4, 5]\n",
      "[2, 3]\n"
     ]
    }
   ],
   "source": [
    "#俩个变量交换\n",
    "a = 1\n",
    "b = 3\n",
    "\n",
    "#Java的写法\n",
    "\n",
    "c = a\n",
    "a = b\n",
    "b = c\n",
    "print(a)\n",
    "print(b)\n",
    "\n",
    "#python的写法\n",
    "a = [2,3]\n",
    "b = [3,4,5]\n",
    "a,b = b,a\n",
    "print(a)\n",
    "print(b)"
   ]
  },
  {
   "cell_type": "markdown",
   "metadata": {},
   "source": [
    "# 集合-set\n",
    "- 集合是高中数学中的一个概念\n",
    "- 一堆确定的无序的唯一的数据，每个数据称为元素。\n"
   ]
  },
  {
   "cell_type": "code",
   "execution_count": 23,
   "metadata": {},
   "outputs": [
    {
     "name": "stdout",
     "output_type": "stream",
     "text": [
      "<class 'set'>\n",
      "{1, 2, 3, 4, 5}\n",
      "<class 'set'>\n"
     ]
    }
   ],
   "source": [
    "# 集合的定义\n",
    "s = set()\n",
    "print(type(s))\n",
    "\n",
    "s = {1,2,3,4,5}\n",
    "print(s)\n",
    "print(type(s))"
   ]
  },
  {
   "cell_type": "code",
   "execution_count": 30,
   "metadata": {},
   "outputs": [
    {
     "name": "stdout",
     "output_type": "stream",
     "text": [
      "<class 'dict'>\n",
      "{}\n"
     ]
    }
   ],
   "source": [
    "# 如果只是用大括号定义，则定义的是一个dict, 无法用大括号定义一个空集合\n",
    "d = { }\n",
    "print(type(d))\n",
    "print(d)"
   ]
  },
  {
   "cell_type": "markdown",
   "metadata": {},
   "source": [
    "# 集合的特征\n",
    "- 集合内数据无序，既无法使用索引和分片\n",
    "- **集合内部数据元素具有唯一性，可以用来排除重复数据**\n",
    "- 集合内的数据，str, int, float, tuple, 冰冻集合等，既内部只能放置可哈希的数据。\n",
    "\n"
   ]
  },
  {
   "cell_type": "markdown",
   "metadata": {},
   "source": [
    "# 集合序列操作"
   ]
  },
  {
   "cell_type": "code",
   "execution_count": 90,
   "metadata": {},
   "outputs": [
    {
     "name": "stdout",
     "output_type": "stream",
     "text": [
      "{3, 'wangwang', 'i', 'love', 54}\n",
      "爱\n",
      "not found\n"
     ]
    }
   ],
   "source": [
    "# 成员检测\n",
    "# in, not in \n",
    "\n",
    "s = {3,54,\"i\", \"love\", \"wangwang\"}\n",
    "# 可以看到集合是无序的，print打出的不一定是你输入的顺序\n",
    "print(s)\n",
    "\n",
    "if \"love\" in s:\n",
    "    print(\"爱\")\n",
    "\n",
    "if \"haha\" not in s:\n",
    "    print(\"not found\")"
   ]
  },
  {
   "cell_type": "markdown",
   "metadata": {},
   "source": [
    "# 集合的便利操作"
   ]
  },
  {
   "cell_type": "code",
   "execution_count": 39,
   "metadata": {},
   "outputs": [
    {
     "name": "stdout",
     "output_type": "stream",
     "text": [
      "wangwang 3 love i 54 "
     ]
    }
   ],
   "source": [
    "# for循环\n",
    "s = {3,54,\"i\", \"love\", \"wangwang\"}\n",
    "for i in s:\n",
    "    print(i, end = \" \")"
   ]
  },
  {
   "cell_type": "code",
   "execution_count": 43,
   "metadata": {},
   "outputs": [
    {
     "name": "stdout",
     "output_type": "stream",
     "text": [
      "I -- love -- wangxiaoxiao\n",
      "a -- b -- c\n",
      "1 -- 2 -- 3\n",
      "('I', 'love', 'wangxiaoxiao')\n",
      "('a', 'b', 'c')\n",
      "(1, 2, 3)\n"
     ]
    }
   ],
   "source": [
    "#带有元组的集合的遍历\n",
    "#如果元组的个数一致\n",
    "s = {(1,2,3),('a','b','c'),(\"I\",\"love\", \"wangxiaoxiao\")}\n",
    "\n",
    "for k,l,m in s:\n",
    "    print(k,\"--\",l,\"--\",m)\n",
    "    \n",
    "for k in s:\n",
    "    print(k)"
   ]
  },
  {
   "cell_type": "markdown",
   "metadata": {},
   "source": [
    "# 集合的内涵"
   ]
  },
  {
   "cell_type": "code",
   "execution_count": 47,
   "metadata": {},
   "outputs": [
    {
     "name": "stdout",
     "output_type": "stream",
     "text": [
      "{33, 2, 3, 4, 34, 1, 234, 23}\n"
     ]
    }
   ],
   "source": [
    "# 普通的集合内涵\n",
    "# 以下集合在初始化后自动过滤掉重复元素\n",
    "s = {2,3,3,4,23,234,34,2,33,3,3,33,3,33,1,2,33,4}\n",
    "print(s)\n",
    "\n",
    "# 普通集合内涵"
   ]
  },
  {
   "cell_type": "code",
   "execution_count": 51,
   "metadata": {},
   "outputs": [
    {
     "name": "stdout",
     "output_type": "stream",
     "text": [
      "{33, 2, 3, 4, 34, 1, 234, 23}\n",
      "{2, 234, 4, 34}\n"
     ]
    }
   ],
   "source": [
    "# 带条件的集合内涵\n",
    "\n",
    "s = {2,3,3,4,23,234,34,2,33,3,3,33,3,33,1,2,33,4}\n",
    "# 返回s中的偶数的集合\n",
    "ss = {i for i in s if i % 2 == 0}\n",
    "print(s)\n",
    "print(ss)"
   ]
  },
  {
   "cell_type": "code",
   "execution_count": 4,
   "metadata": {},
   "outputs": [
    {
     "name": "stdout",
     "output_type": "stream",
     "text": [
      "{'ii', 'wangwang', 'wangwangwangwang', 'lovelove', 'iiii', 'lovelovelovelove', 'i', 'wangwangwangwangwangwang', 'love', 'iii', 'lovelovelove', 'wangwangwangwangwangwangwangwang'}\n",
      "********************\n",
      "{'lovelove', 'ii', 'wangwangwangwang'}\n"
     ]
    }
   ],
   "source": [
    "# 多循环的集合内涵\n",
    "\n",
    "s1 = {1,2,3,4}\n",
    "s2 = {\"i\", \"love\",\"wangwang\"}\n",
    "\n",
    "# 以下语句类似两个for循环\n",
    "# for m in s1:\n",
    "#    for n in s2:\n",
    "#        把m*n添加到s的集合中\n",
    "s = {m*n for m in s1 for n in s2}\n",
    "print(s)\n",
    "\n",
    "#有条件的多循环的集合内涵，只能一行判断条件\n",
    "# 以下语句类似两个for循环\n",
    "# for m in s1:\n",
    "#    for n in s2:\n",
    "#        if n ==2:\n",
    "#            把m*n添加到s的集合中\n",
    "print(\"*\" * 20)\n",
    "s = {m*n for m in s1 for n in s2 if m ==2}\n",
    "print(s)\n"
   ]
  },
  {
   "cell_type": "code",
   "execution_count": 6,
   "metadata": {},
   "outputs": [
    {
     "name": "stdout",
     "output_type": "stream",
     "text": [
      "6\n",
      "234\n",
      "22\n"
     ]
    }
   ],
   "source": [
    "# 集合函数/关于集合的函数\n",
    "# len, max, min: 跟其他基本函数一致\n",
    "s = {43,30,33,33,234,34,22,33}\n",
    "# 重复的值会过滤掉\n",
    "print(len(s))\n",
    "print(max(s))\n",
    "print(min(s))"
   ]
  },
  {
   "cell_type": "code",
   "execution_count": 95,
   "metadata": {},
   "outputs": [
    {
     "name": "stdout",
     "output_type": "stream",
     "text": [
      "{1, 333}\n",
      "77023944\n",
      "77023944\n",
      "set()\n",
      "{3, 4, 6, 8}\n",
      "******************************\n",
      "{3, 4, 6, 8}\n",
      "{3, 4, 6, 8}\n"
     ]
    }
   ],
   "source": [
    "#add: 向集合里添加数据，注意集合里没有顺序，所以没有append和insert方法\n",
    "s = {1}\n",
    "s.add(333)\n",
    "print(s)\n",
    "\n",
    "# copy 拷贝\n",
    "# clear 原地清空\n",
    "s = {1,2,3,4}\n",
    "print(id(s))\n",
    "s.clear()\n",
    "\n",
    "print(id(s))\n",
    "print(s)\n",
    "\n",
    "# discard：移除集合中指定的值,如果指定的值不存在，不报错\n",
    "s = {2,3,4,6,8,3}\n",
    "s.discard(2)\n",
    "print(s)\n",
    "\n",
    "print(\"*\" * 30)\n",
    "s.discard(100)\n",
    "print(s)\n",
    "\n",
    "# remove:移除指定的值,如果删除的值不存在，报错\n",
    "# s.remove(100)   #这里会报错\n",
    "print(s)\n",
    "\n",
    "\n",
    "\n"
   ]
  },
  {
   "cell_type": "code",
   "execution_count": 94,
   "metadata": {},
   "outputs": [
    {
     "name": "stdout",
     "output_type": "stream",
     "text": [
      "{1, 2, 3, 'b', 4, 5, 'c', 6, 'a'}\n",
      "{2, 3, 'b', 4, 5, 'c', 6, 'a'}\n",
      "{3, 'b', 4, 5, 'c', 6, 'a'}\n",
      "{'b', 4, 5, 'c', 6, 'a'}\n",
      "********************\n",
      "{'bbbb', 'cccc', 'dddd', 'aaa'}\n",
      "{'cccc', 'dddd', 'aaa'}\n",
      "{'dddd', 'aaa'}\n",
      "{'aaa'}\n",
      "{('c', 'd'), ('a', 'b'), ('e', 'f')}\n",
      "{('a', 'b'), ('e', 'f')}\n",
      "{('e', 'f')}\n",
      "set()\n"
     ]
    }
   ],
   "source": [
    "# pop:按哈希序列从左边移除一个元素\n",
    "s = {'a','b','c',1,2,3,4,5,6}\n",
    "print(s)\n",
    "\n",
    "s.pop()\n",
    "print(s)\n",
    "s.pop()\n",
    "print(s)\n",
    "s.pop()\n",
    "print(s)\n",
    "\n",
    "print(\"*\" * 20)\n",
    "s = {('a','b'),('c','d'),('e','f')}\n",
    "print(s)\n",
    "\n",
    "s.pop()\n",
    "print(s)\n",
    "s.pop()\n",
    "print(s)\n",
    "s.pop()\n",
    "print(s)\n"
   ]
  },
  {
   "cell_type": "code",
   "execution_count": 96,
   "metadata": {},
   "outputs": [
    {
     "name": "stdout",
     "output_type": "stream",
     "text": [
      "{5, 6}\n",
      "{5, 6}\n",
      "{1, 2, 3, 4}\n",
      "{8, 9, 7}\n",
      "{1, 2, 3, 4, 5, 6, 7, 8, 9}\n",
      "False\n",
      "********************\n",
      "True\n",
      "True\n"
     ]
    }
   ],
   "source": [
    "# 两个集合操作的函数\n",
    "# intersection: 交集\n",
    "# difference: 差集\n",
    "# unionn: 并集\n",
    "# issubset：检查一个集合是否另外一个集合的子集\n",
    "# issuperset: 检查一个集合是否是另外一个集合的超集\n",
    "\n",
    "s1 = {1,2,3,4,5,6}\n",
    "s2 = {5,6,7,8,9}\n",
    "\n",
    "# intersection: 交集\n",
    "#s1和s2的公共部分\n",
    "print(s1.intersection(s2))\n",
    "print(s2.intersection(s1))\n",
    "\n",
    "# difference: 差集\n",
    "#s1中去掉s2的元素，剩下的集合\n",
    "print(s1.difference(s2))\n",
    "#s2中去掉s1中的元素，剩下的集合\n",
    "print(s2.difference(s1))\n",
    "\n",
    "# unionn: 并集， 两个集合元素之和，注意去重\n",
    "print(s1.union(s2))\n",
    "\n",
    "\n",
    "# issubset：检查一个集合是否另外一个集合的子集\n",
    "print(s1.issubset(s2))\n",
    "\n",
    "# 一个集合a是另外一个集合b的子集, 说明a中的元素同时也是b中的元素，issubset，简称a是b的子集，同时b是a的超集\n",
    "print(\"*\" * 20)\n",
    "s3 = {2,3}\n",
    "print(s3.issubset(s1))\n",
    "print(s1.issuperset(s3))\n"
   ]
  },
  {
   "cell_type": "markdown",
   "metadata": {},
   "source": [
    "# 集合的数学操作\n",
    "## 集合不支持 + - 操作"
   ]
  },
  {
   "cell_type": "code",
   "execution_count": 31,
   "metadata": {},
   "outputs": [
    {
     "ename": "TypeError",
     "evalue": "unsupported operand type(s) for +: 'set' and 'set'",
     "output_type": "error",
     "traceback": [
      "\u001b[1;31m---------------------------------------------------------------------------\u001b[0m",
      "\u001b[1;31mTypeError\u001b[0m                                 Traceback (most recent call last)",
      "\u001b[1;32m<ipython-input-31-38e090660a55>\u001b[0m in \u001b[0;36m<module>\u001b[1;34m()\u001b[0m\n\u001b[0;32m      2\u001b[0m \u001b[0ms2\u001b[0m \u001b[1;33m=\u001b[0m \u001b[1;33m{\u001b[0m\u001b[1;36m5\u001b[0m\u001b[1;33m,\u001b[0m\u001b[1;36m6\u001b[0m\u001b[1;33m,\u001b[0m\u001b[1;36m7\u001b[0m\u001b[1;33m,\u001b[0m\u001b[1;36m8\u001b[0m\u001b[1;33m,\u001b[0m\u001b[1;36m9\u001b[0m\u001b[1;33m}\u001b[0m\u001b[1;33m\u001b[0m\u001b[0m\n\u001b[0;32m      3\u001b[0m \u001b[1;33m\u001b[0m\u001b[0m\n\u001b[1;32m----> 4\u001b[1;33m \u001b[0mprint\u001b[0m\u001b[1;33m(\u001b[0m\u001b[0ms1\u001b[0m\u001b[1;33m+\u001b[0m\u001b[0ms2\u001b[0m\u001b[1;33m)\u001b[0m\u001b[1;33m\u001b[0m\u001b[0m\n\u001b[0m\u001b[0;32m      5\u001b[0m \u001b[1;33m\u001b[0m\u001b[0m\n\u001b[0;32m      6\u001b[0m \u001b[0mprint\u001b[0m\u001b[1;33m(\u001b[0m\u001b[0ms1\u001b[0m\u001b[1;33m-\u001b[0m\u001b[0ms2\u001b[0m\u001b[1;33m)\u001b[0m\u001b[1;33m\u001b[0m\u001b[0m\n",
      "\u001b[1;31mTypeError\u001b[0m: unsupported operand type(s) for +: 'set' and 'set'"
     ]
    }
   ],
   "source": [
    "s1 = {1,2,3,4,5,6}\n",
    "s2 = {5,6,7,8,9}\n",
    "\n",
    "print(s1+s2)\n",
    "\n",
    "print(s1-s2)"
   ]
  },
  {
   "cell_type": "markdown",
   "metadata": {},
   "source": [
    "# 冰冻集合 frozen set：\n",
    "- 不可以修改的集合"
   ]
  },
  {
   "cell_type": "code",
   "execution_count": 35,
   "metadata": {},
   "outputs": [
    {
     "name": "stdout",
     "output_type": "stream",
     "text": [
      "<class 'frozenset'>\n",
      "<class 'frozenset'>\n"
     ]
    }
   ],
   "source": [
    "# 创建冰冻集合\n",
    "s = frozenset()\n",
    "print(type(s))\n",
    "\n",
    "s1 = {1,2,3,4,5,6}\n",
    "s2 = frozenset(s1)\n",
    "print(type(s2))"
   ]
  },
  {
   "cell_type": "markdown",
   "metadata": {},
   "source": [
    "# 字典 dict\n",
    "- 字典是一种组合数据，没有顺序，数据以键值对形式出现\n"
   ]
  },
  {
   "cell_type": "code",
   "execution_count": 54,
   "metadata": {},
   "outputs": [
    {
     "name": "stdout",
     "output_type": "stream",
     "text": [
      "<class 'dict'>\n",
      "<class 'dict'>\n",
      "<class 'set'>\n",
      "{'one': 1, 'two': 2, 'three': 3}\n",
      "********************\n",
      "{'one': 1, 'two': 2, 'three': 3}\n"
     ]
    }
   ],
   "source": [
    "# 创建空字典\n",
    "d = { }\n",
    "print(type(d))\n",
    "\n",
    "# 创建空字典2\n",
    "d = dict()\n",
    "print(type(d))\n",
    "\n",
    "d = {1,2,3}\n",
    "print(type(d))\n",
    "\n",
    "d = {\"one\":1, \"two\":2, \"three\":3}\n",
    "print(d)\n",
    "\n",
    "# 用dict创建有内容字典\n",
    "\n",
    "d = dict({\"one\":1, \"two\":2, \"three\":3})\n",
    "print(\"*\" * 20)\n",
    "d = dict(one=1,two=2, three=3)\n",
    "print(d)\n"
   ]
  },
  {
   "cell_type": "markdown",
   "metadata": {},
   "source": [
    "# 字典的特性\n",
    "- 字典是无序序列，所以没有分片和索引\n",
    "- 字典中的每个数据都是键值对(kv对， key-value对）\n",
    "    - key: 必须是可哈希的值，比如int,string,float,tuple, 但是list,set,dict不行\n",
    "    - value: 任何值"
   ]
  },
  {
   "cell_type": "code",
   "execution_count": 98,
   "metadata": {},
   "outputs": [
    {
     "name": "stdout",
     "output_type": "stream",
     "text": [
      "1\n",
      "{'one': 'wang', 'two': 2, 'three': 3, 'four': 4}\n",
      "{'one': 'wang', 'three': 3, 'four': 4}\n"
     ]
    }
   ],
   "source": [
    "# 字典常见操作\n",
    "\n",
    "# 访问数据\n",
    "d = {\"one\":1, \"two\":2, \"three\":3}\n",
    "# 注意访问格式，中括号内是键值\n",
    "print(d[\"one\"])\n",
    "\n",
    "#增加一个键值对\n",
    "d[\"four\"] = 4\n",
    "\n",
    "# 修改值的内容\n",
    "d[\"one\"] = \"wang\"\n",
    "print(d)\n",
    "\n",
    "# 删除某个键值使用del\n",
    "del d[\"two\"]\n",
    "print(d)\n"
   ]
  },
  {
   "cell_type": "code",
   "execution_count": null,
   "metadata": {},
   "outputs": [],
   "source": [
    "# 成员检测 in, not in, \n",
    "# 检测的是键key的内容\n",
    "d = {\"one\":1, \"two\":2, \"three\":3}\n",
    "\n"
   ]
  },
  {
   "cell_type": "code",
   "execution_count": 66,
   "metadata": {},
   "outputs": [
    {
     "name": "stdout",
     "output_type": "stream",
     "text": [
      "one 1\n",
      "two 2\n",
      "three 3\n",
      "one 1\n",
      "two 2\n",
      "three 3\n",
      "1\n",
      "2\n",
      "3\n",
      "one --- 1\n",
      "two --- 2\n",
      "three --- 3\n"
     ]
    }
   ],
   "source": [
    "# 遍历在python2和python3中区别比较大，代码不通用\n",
    "\n",
    "d = {\"one\":1, \"two\":2, \"three\":3}\n",
    "#使用for循环\n",
    "for k in d:\n",
    "    print(k,d[k])\n",
    "    \n",
    "# 上面代码可以写成如下：\n",
    "\n",
    "for k in d.keys():\n",
    "    print(k,d[k])\n",
    "    \n",
    "# 可以直接用value来访问\n",
    "for v in d.values():\n",
    "    print(v)\n",
    "    \n",
    "# 注意键值对的特殊用法\n",
    "for k,v in d.items():\n",
    "    print(k,\"---\",v)"
   ]
  },
  {
   "cell_type": "code",
   "execution_count": 71,
   "metadata": {},
   "outputs": [
    {
     "name": "stdout",
     "output_type": "stream",
     "text": [
      "{'one': 1, 'two': 2, 'three': 3}\n",
      "{'two': 2}\n"
     ]
    }
   ],
   "source": [
    "# 字典生成式\n",
    "d = {\"one\":1, \"two\":2, \"three\":3}\n",
    "\n",
    "dd = {k:v for k,v in d.items()}\n",
    "print(dd)\n",
    "\n",
    "#加限制条件\n",
    "dd = {k:v for k,v in d.items() if v % 2 == 0}\n",
    "print(dd)"
   ]
  },
  {
   "cell_type": "markdown",
   "metadata": {},
   "source": [
    "# 字典的相关函数"
   ]
  },
  {
   "cell_type": "code",
   "execution_count": 74,
   "metadata": {},
   "outputs": [
    {
     "name": "stdout",
     "output_type": "stream",
     "text": [
      "{'one': 1, 'two': 2, 'three': 3}\n",
      "<class 'str'>\n"
     ]
    }
   ],
   "source": [
    "# 通用函数 : len, max, min, dict\n",
    "# str(字典)：返回字典的字符串格式\n",
    "\n",
    "d = {\"one\":1, \"two\":2, \"three\":3}\n",
    "\n",
    "s = str(d)\n",
    "print(s)\n",
    "print(type(s))"
   ]
  },
  {
   "cell_type": "code",
   "execution_count": 99,
   "metadata": {},
   "outputs": [
    {
     "name": "stdout",
     "output_type": "stream",
     "text": [
      "<class 'dict_items'>\n",
      "dict_items([('one', 1), ('two', 2), ('three', 3)])\n"
     ]
    }
   ],
   "source": [
    "# clear 清空字典\n",
    "\n",
    "\n",
    "d = {\"one\":1, \"two\":2, \"three\":3}\n",
    "\n",
    "d = {\"one\":1,\"one\":1,\"two\":2, \"three\":3}\n",
    "\n",
    "\n",
    "i = d.items()\n",
    "\n",
    "print(type(i))\n",
    "print(i)"
   ]
  },
  {
   "cell_type": "code",
   "execution_count": 78,
   "metadata": {},
   "outputs": [
    {
     "name": "stdout",
     "output_type": "stream",
     "text": [
      "<class 'dict_keys'>\n",
      "dict_keys(['one', 'two', 'three'])\n"
     ]
    }
   ],
   "source": [
    "# keys:返回字典的键组成的结构\n",
    "d = {\"one\":1, \"two\":2, \"three\":3}\n",
    "\n",
    "i = d.keys()\n",
    "\n",
    "print(type(i))\n",
    "print(i)"
   ]
  },
  {
   "cell_type": "code",
   "execution_count": 80,
   "metadata": {},
   "outputs": [
    {
     "name": "stdout",
     "output_type": "stream",
     "text": [
      "<class 'dict_values'>\n",
      "dict_values([1, 2, 3])\n"
     ]
    }
   ],
   "source": [
    "# values:返回字典的值组成的结构\n",
    "d = {\"one\":1, \"two\":2, \"three\":3}\n",
    "\n",
    "i = d.values()\n",
    "\n",
    "print(type(i))\n",
    "print(i)"
   ]
  },
  {
   "cell_type": "code",
   "execution_count": 86,
   "metadata": {},
   "outputs": [
    {
     "name": "stdout",
     "output_type": "stream",
     "text": [
      "1\n",
      "None\n",
      "Not Existed\n"
     ]
    }
   ],
   "source": [
    "# get：根据指定键值返回相应的值，可以设置返回的默认值，不存在不报错\n",
    "\n",
    "d = {\"one\":1, \"two\":2, \"three\":3}\n",
    "print(d.get(\"one\"))\n",
    "\n",
    "print(d.get(\"aaa\"))\n",
    "\n",
    "print(d.get(\"aaa\",\"Not Existed\"))"
   ]
  },
  {
   "cell_type": "code",
   "execution_count": 88,
   "metadata": {},
   "outputs": [
    {
     "name": "stdout",
     "output_type": "stream",
     "text": [
      "{'a': '111', 'b': '111', 'c': '111'}\n"
     ]
    }
   ],
   "source": [
    "# fromkeys: 使用指定的序列作为键值，一个默认值作为所有键的值\n",
    "# 注意fromkeys的调用主体\n",
    "\n",
    "l = [\"a\",\"b\",\"c\"]\n",
    "d = dict.fromkeys(l,\"111\")\n",
    "print(d)"
   ]
  }
 ],
 "metadata": {
  "kernelspec": {
   "display_name": "Python 3",
   "language": "python",
   "name": "python3"
  },
  "language_info": {
   "codemirror_mode": {
    "name": "ipython",
    "version": 3
   },
   "file_extension": ".py",
   "mimetype": "text/x-python",
   "name": "python",
   "nbconvert_exporter": "python",
   "pygments_lexer": "ipython3",
   "version": "3.6.5"
  }
 },
 "nbformat": 4,
 "nbformat_minor": 2
}
