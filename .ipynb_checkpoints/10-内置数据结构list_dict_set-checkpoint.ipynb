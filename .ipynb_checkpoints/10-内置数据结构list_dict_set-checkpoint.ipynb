{
 "cells": [
  {
   "cell_type": "markdown",
   "metadata": {},
   "source": [
    "# 关于元组的函数\n",
    "- 看代码\n",
    "- 以下函数，对list基本适用"
   ]
  },
  {
   "cell_type": "code",
   "execution_count": 14,
   "metadata": {},
   "outputs": [
    {
     "name": "stdout",
     "output_type": "stream",
     "text": [
      "6\n",
      "2\n",
      "(1, 2, 3, 4, 5)\n",
      "()\n",
      "3\n",
      "0\n",
      "2\n"
     ]
    }
   ],
   "source": [
    "#关于元组的函数\n",
    "#len, 获取元组的长度\n",
    "\n",
    "t = (2,3,4,6,2)\n",
    "len(t)\n",
    "\n",
    "#max,min:最大最小值\n",
    "#如果列表元组中有多个最大最小值，则实际打印出哪个？ \n",
    "print(max(t))\n",
    "print(min(t))\n",
    "\n",
    "l = [1,2,3,4,5]\n",
    "t = tuple(l)\n",
    "\n",
    "print(t)\n",
    "\n",
    "t = tuple()\n",
    "print(t)\n",
    "\n",
    "\n",
    "#count: 计算指定数据出现的次数\n",
    "t = (2,3,4,6,2,3,3,2)\n",
    "print(t.count(2))\n",
    "\n",
    "# index:求指定元素在元组中的索引的位置\n",
    "#如果需要查找的数值是多个，则返回第一个\n",
    "\n",
    "print(t.index(2))\n",
    "print(t.index(4))"
   ]
  },
  {
   "cell_type": "code",
   "execution_count": 18,
   "metadata": {},
   "outputs": [
    {
     "name": "stdout",
     "output_type": "stream",
     "text": [
      "3\n",
      "1\n",
      "[3, 4, 5]\n",
      "[2, 3]\n"
     ]
    }
   ],
   "source": [
    "#俩个变量交换\n",
    "a = 1\n",
    "b = 3\n",
    "\n",
    "#Java的写法\n",
    "\n",
    "c = a\n",
    "a = b\n",
    "b = c\n",
    "print(a)\n",
    "print(b)\n",
    "\n",
    "#python的写法\n",
    "a = [2,3]\n",
    "b = [3,4,5]\n",
    "a,b = b,a\n",
    "print(a)\n",
    "print(b)"
   ]
  },
  {
   "cell_type": "markdown",
   "metadata": {},
   "source": [
    "# 集合-set\n",
    "- 集合是高中数学中的一个概念\n",
    "- 一堆确定的无序的唯一的数据，每个数据称为元素。\n"
   ]
  },
  {
   "cell_type": "code",
   "execution_count": 23,
   "metadata": {},
   "outputs": [
    {
     "name": "stdout",
     "output_type": "stream",
     "text": [
      "<class 'set'>\n",
      "{1, 2, 3, 4, 5}\n",
      "<class 'set'>\n"
     ]
    }
   ],
   "source": [
    "# 集合的定义\n",
    "s = set()\n",
    "print(type(s))\n",
    "\n",
    "s = {1,2,3,4,5}\n",
    "print(s)\n",
    "print(type(s))"
   ]
  },
  {
   "cell_type": "code",
   "execution_count": 30,
   "metadata": {},
   "outputs": [
    {
     "name": "stdout",
     "output_type": "stream",
     "text": [
      "<class 'dict'>\n",
      "{}\n"
     ]
    }
   ],
   "source": [
    "# 如果只是用大括号定义，则定义的是一个dict, 无法用大括号定义一个空集合\n",
    "d = { }\n",
    "print(type(d))\n",
    "print(d)"
   ]
  },
  {
   "cell_type": "markdown",
   "metadata": {},
   "source": [
    "# 集合的特征\n",
    "- 集合内数据无需，既无法使用索引和分片\n",
    "- **集合内部数据元素具有唯一性，可以用来排除重复数据**\n",
    "- 集合内的数据，str, int, float, tuple, 冰冻集合等，既内部只能放置可哈希的数据。\n",
    "\n"
   ]
  },
  {
   "cell_type": "markdown",
   "metadata": {},
   "source": [
    "# 集合序列操作"
   ]
  },
  {
   "cell_type": "code",
   "execution_count": 34,
   "metadata": {},
   "outputs": [
    {
     "name": "stdout",
     "output_type": "stream",
     "text": [
      "{'wangwang', 3, 'love', 'i', 54}\n",
      "爱呀\n",
      "没有找到\n"
     ]
    }
   ],
   "source": [
    "# 成员检测\n",
    "# in, not in \n",
    "\n",
    "s = {3,54,\"i\", \"love\", \"wangwang\"}\n",
    "# 可以看到集合是无序的，print打出的不一定是你输入的顺序\n",
    "print(s)\n",
    "\n",
    "if \"love\" in s:\n",
    "    print(\"爱呀\")\n",
    "\n",
    "if \"haha\" not in s:\n",
    "    print(\"没有找到\")"
   ]
  },
  {
   "cell_type": "markdown",
   "metadata": {},
   "source": [
    "# 集合的便利操作"
   ]
  },
  {
   "cell_type": "code",
   "execution_count": 39,
   "metadata": {},
   "outputs": [
    {
     "name": "stdout",
     "output_type": "stream",
     "text": [
      "wangwang 3 love i 54 "
     ]
    }
   ],
   "source": [
    "# for循环\n",
    "s = {3,54,\"i\", \"love\", \"wangwang\"}\n",
    "for i in s:\n",
    "    print(i, end = \" \")"
   ]
  },
  {
   "cell_type": "code",
   "execution_count": 43,
   "metadata": {},
   "outputs": [
    {
     "name": "stdout",
     "output_type": "stream",
     "text": [
      "I -- love -- wangxiaoxiao\n",
      "a -- b -- c\n",
      "1 -- 2 -- 3\n",
      "('I', 'love', 'wangxiaoxiao')\n",
      "('a', 'b', 'c')\n",
      "(1, 2, 3)\n"
     ]
    }
   ],
   "source": [
    "#带有元组的集合的遍历\n",
    "#如果元组的个数一致\n",
    "s = {(1,2,3),('a','b','c'),(\"I\",\"love\", \"wangxiaoxiao\")}\n",
    "\n",
    "for k,l,m in s:\n",
    "    print(k,\"--\",l,\"--\",m)\n",
    "    \n",
    "for k in s:\n",
    "    print(k)"
   ]
  },
  {
   "cell_type": "markdown",
   "metadata": {},
   "source": [
    "# 集合的内涵"
   ]
  },
  {
   "cell_type": "code",
   "execution_count": 47,
   "metadata": {},
   "outputs": [
    {
     "name": "stdout",
     "output_type": "stream",
     "text": [
      "{33, 2, 3, 4, 34, 1, 234, 23}\n"
     ]
    }
   ],
   "source": [
    "# 普通的集合内涵\n",
    "# 以下集合在初始化后自动过滤掉重复元素\n",
    "s = {2,3,3,4,23,234,34,2,33,3,3,33,3,33,1,2,33,4}\n",
    "print(s)\n",
    "\n",
    "# 普通集合内涵"
   ]
  },
  {
   "cell_type": "code",
   "execution_count": 51,
   "metadata": {},
   "outputs": [
    {
     "name": "stdout",
     "output_type": "stream",
     "text": [
      "{33, 2, 3, 4, 34, 1, 234, 23}\n",
      "{2, 234, 4, 34}\n"
     ]
    }
   ],
   "source": [
    "# 带条件的集合内涵\n",
    "\n",
    "s = {2,3,3,4,23,234,34,2,33,3,3,33,3,33,1,2,33,4}\n",
    "# 返回s中的偶数的集合\n",
    "ss = {i for i in s if i % 2 == 0}\n",
    "print(s)\n",
    "print(ss)"
   ]
  },
  {
   "cell_type": "code",
   "execution_count": 52,
   "metadata": {},
   "outputs": [
    {
     "name": "stdout",
     "output_type": "stream",
     "text": [
      "{'wangwang', 'iii', 'iiii', 'wangwangwangwangwangwang', 'love', 'wangwangwangwang', 'lovelovelovelove', 'lovelovelove', 'wangwangwangwangwangwangwangwang', 'lovelove', 'i', 'ii'}\n"
     ]
    }
   ],
   "source": [
    "# 多循环的集合内涵\n",
    "\n",
    "s1 = {1,2,3,4}\n",
    "s2 = {\"i\", \"love\",\"wangwang\"}\n",
    "\n",
    "s = {m*n for m in s1 for n in s2}\n",
    "print(s)"
   ]
  }
 ],
 "metadata": {
  "kernelspec": {
   "display_name": "Python 3",
   "language": "python",
   "name": "python3"
  },
  "language_info": {
   "codemirror_mode": {
    "name": "ipython",
    "version": 3
   },
   "file_extension": ".py",
   "mimetype": "text/x-python",
   "name": "python",
   "nbconvert_exporter": "python",
   "pygments_lexer": "ipython3",
   "version": "3.6.5"
  }
 },
 "nbformat": 4,
 "nbformat_minor": 2
}
