{
 "cells": [
  {
   "cell_type": "markdown",
   "metadata": {},
   "source": [
    "# 分支结构\n",
    "- if...elif...else"
   ]
  },
  {
   "cell_type": "markdown",
   "metadata": {},
   "source": [
    "# 一级标题\n",
    "## 二级标题\n",
    "...\n",
    "###### 六级标题\n",
    "\n",
    "**加粗**\n",
    "*斜体*\n",
    "\n",
    "* 无序列表\n",
    "- 无序列表\n",
    "+ 无序列表\n",
    "\n",
    "1. 有序列表\n",
    "2. 有序列表\n",
    "3. 有序列表\n",
    "\n",
    "链接\n",
    "[google](http://www.google.com)\n",
    "\n",
    "\n",
    "图片：\n",
    "![百度图片](https://ss1.bdstatic.com/70cFvXSh_Q1YnxGkpoWK1HF6hhy/it/u=2944189484,716046323&fm=26&gp=0.jpg)\n",
    "\n",
    "引用\n",
    "> 一盏灯，一片昏黄...\n",
    "\n",
    "\n",
    "代码引用\n",
    "'''python\n",
    "print(\"hello\")\n",
    "'''\n",
    "|:---|:---:|---:|\n",
    "制表格\n",
    "|学生排名|学生姓名|学生成绩|\n",
    "|1|黎明|94|\n",
    "|2|张三|99|\n",
    "|3|刘彻|55|\n"
   ]
  },
  {
   "cell_type": "code",
   "execution_count": null,
   "metadata": {},
   "outputs": [],
   "source": [
    "import math\n",
    "?math"
   ]
  },
  {
   "cell_type": "code",
   "execution_count": null,
   "metadata": {},
   "outputs": [],
   "source": [
    "# score 保存成绩\n",
    "\n",
    "score = input(\"请输入学生成绩：\")\n",
    "score = int(score)\n",
    "\n",
    "if score >= 90:\n",
    "    print(\"A\")\n",
    "if score >= 80 and score <90:\n",
    "    print(\"B\")\n",
    "if score >=60 and score <80:\n",
    "    print(\"C\")\n",
    "if score <60:\n",
    "    print(\"D\")"
   ]
  },
  {
   "cell_type": "code",
   "execution_count": null,
   "metadata": {},
   "outputs": [],
   "source": [
    "import math\n",
    "?math"
   ]
  },
  {
   "cell_type": "markdown",
   "metadata": {},
   "source": [
    "## 多路分支\n",
    "\n",
    "# 循环语句\n",
    "- 重复执行某些固定的动作\n",
    "- 分类\n",
    "    - for循环\n",
    "    - while循环\n",
    "    \n",
    "## for 循环\n",
    "- for 循环\n",
    "    for 变量 in 序列：\n",
    "        语句1\n",
    "        语句2\n",
    "        ...\n",
    "  \n",
    "  \n",
    " ## range 介绍\n",
    " - 生成一个数字序列\n",
    " - 具体范围可以设定\n",
    " \n",
    " ## for-else语句\n",
    " - 执行完for语句结束后执行else语句，else可选\n",
    " "
   ]
  },
  {
   "cell_type": "code",
   "execution_count": 8,
   "metadata": {},
   "outputs": [
    {
     "name": "stdout",
     "output_type": "stream",
     "text": [
      "同学zhangsan, 我们不约!\n",
      "同学lisi, 我们不约!\n",
      "同学wangwu, 我们不约!\n",
      "我的最爱Happy出现了\n"
     ]
    }
   ],
   "source": [
    "#列表就是一列数据或者其他值， 一般用中括号表示\n",
    "#例如 ['zhangsan','lisi','wangwu']\n",
    "\n",
    "#打印学生列表,如果是Happy，我的最爱\n",
    "for name in ['zhangsan','lisi','wangwu','Happy']:\n",
    "    if name == 'Happy': \n",
    "        print((\"我的最爱{0}出现了\").format(name))\n",
    "    else:\n",
    "        print(\"同学{0}, 我们不约!\".format(name))"
   ]
  },
  {
   "cell_type": "code",
   "execution_count": 6,
   "metadata": {},
   "outputs": [
    {
     "name": "stdout",
     "output_type": "stream",
     "text": [
      "1\n",
      "2\n",
      "3\n",
      "4\n",
      "5\n",
      "6\n",
      "7\n",
      "8\n",
      "9\n"
     ]
    }
   ],
   "source": [
    "#range练习\n",
    "#打印从1-10的数字\n",
    "#注意在python中， 如果表示数字范围的两个数，一般包含左边数字不包含右边数字\n",
    "#randint是特例，左右都包\n",
    "\n",
    "#range在python2 和python3中有很大区别\n",
    "\n",
    "for i in range(1,10):\n",
    "    print(i)"
   ]
  },
  {
   "cell_type": "code",
   "execution_count": 7,
   "metadata": {
    "scrolled": true
   },
   "outputs": [
    {
     "name": "stdout",
     "output_type": "stream",
     "text": [
      "同学zhangsan, 我们不约!\n",
      "同学lisi, 我们不约!\n",
      "同学wangwu, 我们不约!\n",
      "我的最爱Happy出现了\n",
      "不再爱啦\n"
     ]
    }
   ],
   "source": [
    "#列表就是一列数据或者其他值， 一般用中括号表示\n",
    "#例如 ['zhangsan','lisi','wangwu']\n",
    "\n",
    "#打印学生列表,如果是Happy，我的最爱\n",
    "for name in ['zhangsan','lisi','wangwu','Happy']:\n",
    "    if name == 'Happy': \n",
    "        print((\"我的最爱{0}出现了\").format(name))\n",
    "    else:\n",
    "        print(\"同学{0}, 我们不约!\".format(name))\n",
    "else:\n",
    "    print(\"不再爱啦\")"
   ]
  },
  {
   "cell_type": "markdown",
   "metadata": {},
   "source": [
    "## 循环之 break，continue，pass\n",
    "- break：无条件结束整个循环，简称循环猝死\n",
    "- continue: 无条件结束本次循环，重新进入下一轮循环\n",
    "- pass: 表示略过，占位符"
   ]
  },
  {
   "cell_type": "code",
   "execution_count": null,
   "metadata": {},
   "outputs": [],
   "source": []
  }
 ],
 "metadata": {
  "kernelspec": {
   "display_name": "Python 3",
   "language": "python",
   "name": "python3"
  },
  "language_info": {
   "codemirror_mode": {
    "name": "ipython",
    "version": 3
   },
   "file_extension": ".py",
   "mimetype": "text/x-python",
   "name": "python",
   "nbconvert_exporter": "python",
   "pygments_lexer": "ipython3",
   "version": "3.6.5"
  }
 },
 "nbformat": 4,
 "nbformat_minor": 2
}
