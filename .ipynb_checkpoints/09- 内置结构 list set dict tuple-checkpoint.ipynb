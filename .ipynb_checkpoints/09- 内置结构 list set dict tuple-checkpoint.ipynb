{
 "cells": [
  {
   "cell_type": "code",
   "execution_count": 12,
   "metadata": {},
   "outputs": [
    {
     "name": "stdout",
     "output_type": "stream",
     "text": [
      "[1, 2, 3, 4, 5, 6]\n",
      "85719752\n",
      "85719752\n",
      "[1, 2, 300, 4, 5, 6]\n",
      "85719752\n",
      "85719752\n",
      "[1, 2, 300, 4, 5, 6]\n",
      "9\n",
      "493972800\n",
      "493972800\n",
      "109\n",
      "n changed in function: 493976000\n",
      "9\n",
      "493972800\n"
     ]
    }
   ],
   "source": [
    "# 传值和传址的区别\n",
    "# 对于简单的数值，采用传值的操作，即在函数内对参数的操作不影响外面的变量\n",
    "# 对于复杂的变量，采用传地址操作，此时函数内的参数和外部变量是同一份内容。\n",
    "\n",
    "def a(n):\n",
    "    print(id(n))\n",
    "    n[2] = 300\n",
    "   \n",
    "    print(n)\n",
    "    print(id(n))\n",
    "    return None\n",
    "\n",
    "def b(n):\n",
    "    print(id(n))\n",
    "    n += 100\n",
    "    print(n)\n",
    "    print(\"n changed in function:\",id(n))\n",
    "    return None\n",
    "\n",
    "an = [1,2,3,4,5,6]\n",
    "bn = 9\n",
    "\n",
    "print(an)\n",
    "print(id(an))\n",
    "a(an)\n",
    "print(id(an))\n",
    "print(an)\n",
    "\n",
    "\n",
    "print(bn)\n",
    "print(id(bn))\n",
    "b(bn)\n",
    "print(bn)\n",
    "print(id(bn))"
   ]
  },
  {
   "cell_type": "markdown",
   "metadata": {},
   "source": [
    "# 关于列表的函数"
   ]
  },
  {
   "cell_type": "code",
   "execution_count": 14,
   "metadata": {},
   "outputs": [
    {
     "data": {
      "text/plain": [
       "['a', 'I love wangxiaoxiao', 12, 988, (5+4j)]"
      ]
     },
     "execution_count": 14,
     "metadata": {},
     "output_type": "execute_result"
    }
   ],
   "source": [
    "l = ['a','I love wangxiaoxiao',12,988,(5+4j)]\n",
    "l"
   ]
  },
  {
   "cell_type": "code",
   "execution_count": 24,
   "metadata": {},
   "outputs": [
    {
     "name": "stdout",
     "output_type": "stream",
     "text": [
      "[1, 2, 3, 4]\n",
      "[1, 2, 3, 4, 100]\n",
      "[1, 2, 3, 666, 4, 100]\n",
      "100\n",
      "[1, 2, 3, 666, 4]\n",
      "None\n",
      "[1, 2, 3, 4]\n"
     ]
    }
   ],
   "source": [
    "# 在末尾追加内容\n",
    "a = [i for i in range(1,5)]\n",
    "print(a)\n",
    "a.append(100)\n",
    "print(a)\n",
    "\n",
    "# insert: 指定位置插入\n",
    "# insert(index, data), 插入位置是index前面\n",
    "a.insert(3,666)  #在4的前面插入一个数666\n",
    "print(a)\n",
    "\n",
    "# 删除\n",
    "# del删除  删除整个list\n",
    "# pop 从一个列表中拿出/弹出一个元素，既把最后一个元素取出来。原列表中就没有了。\n",
    "last_item = a.pop()\n",
    "print(last_item)\n",
    "print(a)\n",
    "\n",
    "# remove：在列表中删除指定的值的元素,不返回删除的值，注意跟pop的区别\n",
    "# 如果被删除的值没有在list中，则报错\n",
    "# 既，删除的值的操作应该使用try...except语句，或者先行进行判断\n",
    "# if x in list:\n",
    "#    list.remove(x)\n",
    "\n",
    "if 666 in a:\n",
    "    item = a.remove(666)   #删除a中值为666的元素，返回None\n",
    "print(item)\n",
    "print(a)"
   ]
  },
  {
   "cell_type": "code",
   "execution_count": 28,
   "metadata": {},
   "outputs": [
    {
     "name": "stdout",
     "output_type": "stream",
     "text": [
      "[1, 2, 3, 4]\n",
      "[]\n",
      "85713672\n",
      "85884616\n",
      "85713672\n",
      "[]\n"
     ]
    }
   ],
   "source": [
    "# clear:清空，把列表数据都清除，但是list保存，注意和del的区别\n",
    "a = [i for i in range(1,5)]\n",
    "print(a)\n",
    "a.clear()\n",
    "print(a)\n",
    "\n",
    "#如果不需要列表地址保持不变，可以用如下方式，相当于保持旧的list对象，但是指向新的列表\n",
    "print(id(a))\n",
    "a = list()\n",
    "print(id(a))\n",
    "a = []\n",
    "print(id(a))\n",
    "print(a)\n",
    "     "
   ]
  },
  {
   "cell_type": "code",
   "execution_count": 23,
   "metadata": {},
   "outputs": [
    {
     "name": "stdout",
     "output_type": "stream",
     "text": [
      "原先列表的值:[1, 2, 3, 4]\n",
      "原先列表的id:83995656\n",
      "反转列表的值:[4, 3, 2, 1]\n",
      "反转列表的id:83995656\n"
     ]
    }
   ],
   "source": [
    "# reverse:反转列表内容，原地反转\n",
    "a = [i for i in range(1,5)]\n",
    "print('原先列表的值:{0}'.format(a))\n",
    "print('原先列表的id:{0}'.format(id(a)))\n",
    "a.reverse()\n",
    "\n",
    "print('反转列表的值:{0}'.format(a))\n",
    "print('反转列表的id:{0}'.format(id(a)))"
   ]
  },
  {
   "cell_type": "code",
   "execution_count": 24,
   "metadata": {},
   "outputs": [
    {
     "name": "stdout",
     "output_type": "stream",
     "text": [
      "83975880\n",
      "83975880\n",
      "[1, 2, 3, 4, 5, 5, 6, 7, 8, 9]\n"
     ]
    }
   ],
   "source": [
    "# extend： 扩展列表，俩个列表，把一个直接拼接到另外一个上\n",
    "\n",
    "a = [i for i in range(1,6)]\n",
    "b = [i for i in range(5,10)]\n",
    "print(id(a))\n",
    "a.extend(b)\n",
    "print(id(a))\n",
    "print(a)\n"
   ]
  },
  {
   "cell_type": "code",
   "execution_count": 45,
   "metadata": {},
   "outputs": [
    {
     "name": "stdout",
     "output_type": "stream",
     "text": [
      "6\n"
     ]
    }
   ],
   "source": [
    "# count: 查找列表中指定的值，返回值的个数\n",
    "# count(value): 返回value值的个数\n",
    "a = [1,2,3,4,5,5,5,5,5,6,5]\n",
    "\n",
    "r = a.count(5)\n",
    "print(r)\n",
    "\n"
   ]
  },
  {
   "cell_type": "code",
   "execution_count": 3,
   "metadata": {},
   "outputs": [
    {
     "name": "stdout",
     "output_type": "stream",
     "text": [
      "[1, 2, 3, 4]\n",
      "[1, 2, 3, 777]\n",
      "[1, 2, 3, 777]\n",
      "********************\n",
      "[1, 2, 3, 777]\n",
      "[1, 2, 3, 113]\n",
      "80332936\n",
      "80333128\n"
     ]
    }
   ],
   "source": [
    "# copy: 拷贝， 此函数是浅拷贝\n",
    "\n",
    "#列表类型变量赋值\n",
    "\n",
    "a = [1,2,3,4]\n",
    "b = a\n",
    "\n",
    "print(a)\n",
    "b[3] = 777\n",
    "print(b)\n",
    "\n",
    "# 修改了b, 把a的列表也改变了，这里 b = a 是把a的地址传给了b\n",
    "print(a)\n",
    "\n",
    "\n",
    "# copy传了值，用copy重新生成了一个列表，所以对新的列表的修改不会影响原先的列表\n",
    "print(\"*\" * 20)\n",
    "c = a.copy()\n",
    "c[3] = 113\n",
    "print(a)\n",
    "print(c)\n",
    "\n",
    "print(id(a))\n",
    "print(id(c))\n"
   ]
  },
  {
   "cell_type": "code",
   "execution_count": 8,
   "metadata": {},
   "outputs": [
    {
     "name": "stdout",
     "output_type": "stream",
     "text": [
      "79701448\n",
      "83293576\n",
      "[1, 2, 3, [10, 55, 30]]\n",
      "[1, 2, 3, [10, 55, 30]]\n"
     ]
    }
   ],
   "source": [
    "# 深拷贝和浅拷贝的区别\n",
    "# 浅拷贝只拷贝一层，当列表里面还有列表时，浅拷贝对第二级的列表只拷贝地址，可能会导致修改后一个copy影响原先的值。\n",
    "# 深拷贝需要特定的工具\n",
    "\n",
    "a = [1,2,3,[10,20,30]]\n",
    "a[3][1]\n",
    "b = a.copy()\n",
    "\n",
    "print(id(a))\n",
    "print(id(b))\n",
    "\n",
    "#注意观察，虽然a的id和b的id不一样，但是修改了b的值，对a也有影响\n",
    "b[3][1] = 55\n",
    "print(a)\n",
    "print(b)"
   ]
  },
  {
   "cell_type": "markdown",
   "metadata": {},
   "source": [
    "# 元组 - tuple\n",
    "- 元组可以看成一个不可修改的list\n",
    "## 元组创建\n"
   ]
  },
  {
   "cell_type": "code",
   "execution_count": 16,
   "metadata": {},
   "outputs": [
    {
     "name": "stdout",
     "output_type": "stream",
     "text": [
      "<class 'tuple'>\n",
      "<class 'tuple'>\n",
      "<class 'tuple'>\n",
      "<class 'tuple'>\n",
      "<class 'tuple'>\n",
      "(1, 2, 3, 4)\n"
     ]
    },
    {
     "ename": "NameError",
     "evalue": "name 't' is not defined",
     "output_type": "error",
     "traceback": [
      "\u001b[1;31m---------------------------------------------------------------------------\u001b[0m",
      "\u001b[1;31mNameError\u001b[0m                                 Traceback (most recent call last)",
      "\u001b[1;32m<ipython-input-16-f1e27f0efef2>\u001b[0m in \u001b[0;36m<module>\u001b[1;34m()\u001b[0m\n\u001b[0;32m     25\u001b[0m \u001b[0mprint\u001b[0m\u001b[1;33m(\u001b[0m\u001b[0mt\u001b[0m\u001b[1;33m)\u001b[0m\u001b[1;33m\u001b[0m\u001b[0m\n\u001b[0;32m     26\u001b[0m \u001b[1;32mdel\u001b[0m \u001b[0mt\u001b[0m\u001b[1;33m\u001b[0m\u001b[0m\n\u001b[1;32m---> 27\u001b[1;33m \u001b[0mprint\u001b[0m\u001b[1;33m(\u001b[0m\u001b[0mt\u001b[0m\u001b[1;33m)\u001b[0m\u001b[1;33m\u001b[0m\u001b[0m\n\u001b[0m",
      "\u001b[1;31mNameError\u001b[0m: name 't' is not defined"
     ]
    }
   ],
   "source": [
    "# 创建元组\n",
    "t = ()\n",
    "print(type(t))\n",
    "\n",
    "# 创建只有一个值的元组,注意后面还要加个逗号,\n",
    "\n",
    "t = (1,)\n",
    "print(type(t))\n",
    "\n",
    "# 不推崇这种写法，不容易理解\n",
    "t = 1,\n",
    "print(type(t))\n",
    "\n",
    "# 创建多个值的元组\n",
    "\n",
    "t= (1,2,3,4,5)\n",
    "print(type(t))\n",
    "\n",
    "t= 1,2,3,4,5\n",
    "print(type(t))\n",
    "\n",
    "# 使用其他结构创建元组tuple\n",
    "l = [1,2,3,4]\n",
    "t = tuple(l)\n",
    "print(t)\n",
    "del t \n",
    "#  删除tuple，就无法访问了： print(t)\n"
   ]
  },
  {
   "cell_type": "markdown",
   "metadata": {},
   "source": [
    "# 元组的特性\n",
    "- 是序列表，有序\n",
    "- 元组数据值可以访问，不能修改。\n",
    "- list所有的特性，除了不可以修改，元组都有。"
   ]
  }
 ],
 "metadata": {
  "kernelspec": {
   "display_name": "Python 3",
   "language": "python",
   "name": "python3"
  },
  "language_info": {
   "codemirror_mode": {
    "name": "ipython",
    "version": 3
   },
   "file_extension": ".py",
   "mimetype": "text/x-python",
   "name": "python",
   "nbconvert_exporter": "python",
   "pygments_lexer": "ipython3",
   "version": "3.6.5"
  }
 },
 "nbformat": 4,
 "nbformat_minor": 2
}
