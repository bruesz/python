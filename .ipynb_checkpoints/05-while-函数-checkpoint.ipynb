{
 "cells": [
  {
   "cell_type": "markdown",
   "metadata": {},
   "source": [
    "# While函数\n",
    "- 一个循环语句\n",
    "- 表示当某个条件成立的时候，就重复执行\n",
    "- 适用于不知道具体循环次数，但能够确定循环的成立条件\n",
    "- while语法：\n",
    "    while 条件表达式：\n",
    "        语句块\n"
   ]
  },
  {
   "cell_type": "code",
   "execution_count": 2,
   "metadata": {},
   "outputs": [
    {
     "name": "stdout",
     "output_type": "stream",
     "text": [
      "第1年拿了10670.0块钱\n",
      "第2年拿了11384.89块钱\n",
      "第3年拿了12147.677629999998块钱\n",
      "第4年拿了12961.572031209998块钱\n",
      "第5年拿了13829.997357301068块钱\n",
      "第6年拿了14756.607180240238块钱\n",
      "第7年拿了15745.299861316334块钱\n",
      "第8年拿了16800.23495202453块钱\n",
      "第9年拿了17925.85069381017块钱\n",
      "第10年拿了19126.88269029545块钱\n",
      "第11年拿了20408.383830545245块钱\n",
      "需要11年本钱会翻倍\n"
     ]
    }
   ],
   "source": [
    "#如果说年利率是6.7%， 在复利的情况下（利滚利）,则多少年后本钱会翻倍？\n",
    "\n",
    "benqian = 10000\n",
    "year = 0\n",
    "while benqian <20000:\n",
    "    benqian = benqian*(1+0.067)\n",
    "    year += 1\n",
    "    print(\"第{0}年拿了{1}块钱\".format(year,benqian))\n",
    "print(\"需要{0}年本钱会翻倍\".format(year))"
   ]
  },
  {
   "cell_type": "markdown",
   "metadata": {},
   "source": [
    "# 函数\n",
    "- 代码的一种组织形式\n",
    "- 完成一项特定的功能，可以重复利用。\n",
    "- 函数使用\n",
    "    - 函数需要先定义\n",
    "    - 调用（使用）函数\n",
    "    "
   ]
  },
  {
   "cell_type": "code",
   "execution_count": 9,
   "metadata": {},
   "outputs": [
    {
     "name": "stdout",
     "output_type": "stream",
     "text": [
      "我是一个函数\n",
      "我会完成一定的功能\n",
      "我结束了!\n",
      "我是一个函数\n",
      "我会完成一定的功能\n",
      "我结束了!\n",
      "我是另外一个函数\n",
      "我也会完成一定的功能\n",
      "我也结束了!\n"
     ]
    }
   ],
   "source": [
    "#定义一个函数\n",
    "# 1. def关键字， 后跟一个空格\n",
    "# 2. 函数名，自己定义，起名需要遵循命名规则，约定俗成，大驼峰命名只给类用。\n",
    "# 3. 后面括号和冒号不能省,括号内可以有参数\n",
    "# 4. 函数所有代码缩进\n",
    "\n",
    "def func():\n",
    "    print(\"我是一个函数\")\n",
    "    print(\"我会完成一定的功能\")\n",
    "    print(\"我结束了!\")\n",
    "\n",
    "def func1():\n",
    "    print(\"我是另外一个函数\")\n",
    "    print(\"我也会完成一定的功能\")\n",
    "    print(\"我也结束了!\")\n",
    "    \n",
    "    \n",
    "func()\n",
    "func()\n",
    "func1()\n"
   ]
  },
  {
   "cell_type": "markdown",
   "metadata": {},
   "source": [
    "## 函数的参数和返回值\n",
    "- 参数：负责给函数传递一些必要的数据或者信息\n",
    "    - 形参（形式参数）：函数定义的时候用到的参数，没有具体值，只是一个占位符号\n",
    "    - 实参（实际参数）： 在调用的时候用到的参数\n",
    "- 返回值：函数的执行结果\n",
    "    - 使用return关键字\n",
    "    - 如果没有return，默认返回None\n",
    "    - 函数一旦执行return语句，无条件返回，后面的代码自动忽略"
   ]
  },
  {
   "cell_type": "code",
   "execution_count": 14,
   "metadata": {},
   "outputs": [
    {
     "name": "stdout",
     "output_type": "stream",
     "text": [
      "张三,你肿么了？\n",
      "你不理额额就走了!\n",
      "清风明月,你肿么了？\n",
      "你不理额额就走了!\n"
     ]
    }
   ],
   "source": [
    "# 参数的使用\n",
    "# 参数person只是一个符号，代表调用的时候的某一个数据\n",
    "\n",
    "def hello(person):\n",
    "    print(\"{0},你肿么了？\".format(person))\n",
    "    print(\"你不理额额就走了!\")\n",
    "    \n",
    "hello(\"张三\")\n",
    "hello(\"清风明月\")"
   ]
  },
  {
   "cell_type": "code",
   "execution_count": 18,
   "metadata": {},
   "outputs": [
    {
     "name": "stdout",
     "output_type": "stream",
     "text": [
      "张三,你肿么了？\n",
      "你不理额额就走了!\n",
      "我已经和张三打好招呼了\n"
     ]
    }
   ],
   "source": [
    "# 参数的使用\n",
    "# 参数person只是一个符号，代表调用的时候的某一个数据\n",
    "\n",
    "def hello(person):\n",
    "    print(\"{0},你肿么了？\".format(person))\n",
    "    print(\"你不理额额就走了!\")\n",
    "    return \"我已经和{0}打好招呼了\".format(person)\n",
    "    \n",
    "print(hello(\"张三\"))\n"
   ]
  },
  {
   "cell_type": "code",
   "execution_count": 20,
   "metadata": {},
   "outputs": [
    {
     "name": "stdout",
     "output_type": "stream",
     "text": [
      "张三,你肿么了？\n",
      "哈哈，我已经提前结束了\n"
     ]
    }
   ],
   "source": [
    "# return案例2\n",
    "def hello(person):\n",
    "    print(\"{0},你肿么了？\".format(person))\n",
    "    return(\"哈哈，我已经提前结束了\")\n",
    "    print(\"你不理额额就走了!\")\n",
    "    return \"我已经和{0}打好招呼了\".format(person)\n",
    "    \n",
    "print(hello(\"张三\"))\n"
   ]
  },
  {
   "cell_type": "code",
   "execution_count": 32,
   "metadata": {},
   "outputs": [
    {
     "name": "stdout",
     "output_type": "stream",
     "text": [
      "1 x 1 = 1 \n",
      "1 x 2 = 2 2 x 2 = 4 \n",
      "1 x 3 = 3 2 x 3 = 6 3 x 3 = 9 \n",
      "1 x 4 = 4 2 x 4 = 8 3 x 4 = 12 4 x 4 = 16 \n",
      "1 x 5 = 5 2 x 5 = 10 3 x 5 = 15 4 x 5 = 20 5 x 5 = 25 \n",
      "1 x 6 = 6 2 x 6 = 12 3 x 6 = 18 4 x 6 = 24 5 x 6 = 30 6 x 6 = 36 \n",
      "1 x 7 = 7 2 x 7 = 14 3 x 7 = 21 4 x 7 = 28 5 x 7 = 35 6 x 7 = 42 7 x 7 = 49 \n",
      "1 x 8 = 8 2 x 8 = 16 3 x 8 = 24 4 x 8 = 32 5 x 8 = 40 6 x 8 = 48 7 x 8 = 56 8 x 8 = 64 \n",
      "1 x 9 = 9 2 x 9 = 18 3 x 9 = 27 4 x 9 = 36 5 x 9 = 45 6 x 9 = 54 7 x 9 = 63 8 x 9 = 72 9 x 9 = 81 \n"
     ]
    }
   ],
   "source": [
    "#实现一个九九乘法表\n",
    "# version 1.0\n",
    "for i in range(1,10):\n",
    "    for j in range(1,i+1):\n",
    "        x = i * j\n",
    "        print(\"{0} x {1} = {2}\".format(j,i,x), end =\" \")\n",
    "    print(\"\")    #每行打印完要换一行\n",
    " "
   ]
  },
  {
   "cell_type": "code",
   "execution_count": 30,
   "metadata": {},
   "outputs": [
    {
     "name": "stdout",
     "output_type": "stream",
     "text": [
      "Help on built-in function print in module builtins:\n",
      "\n",
      "print(...)\n",
      "    print(value, ..., sep=' ', end='\\n', file=sys.stdout, flush=False)\n",
      "    \n",
      "    Prints the values to a stream, or to sys.stdout by default.\n",
      "    Optional keyword arguments:\n",
      "    file:  a file-like object (stream); defaults to the current sys.stdout.\n",
      "    sep:   string inserted between values, default a space.\n",
      "    end:   string appended after the last value, default a newline.\n",
      "    flush: whether to forcibly flush the stream.\n",
      "\n"
     ]
    }
   ],
   "source": [
    "help(print)"
   ]
  },
  {
   "cell_type": "markdown",
   "metadata": {},
   "source": [
    "## 参数详解\n",
    "- [参考资料](https://www.cnblogs.com/bingabcd/p/6671368.html)\n",
    "- python参考资料： headfirst python  -> 零基础学习python （小甲鱼）-> 习题 -> 后期可以考虑腾讯免费公开课\n",
    "- 参数分类\n",
    "    - 普通参数\n",
    "    - 默认参数\n",
    "    - 关键字参数\n",
    "    - 收集参数\n",
    "    "
   ]
  }
 ],
 "metadata": {
  "kernelspec": {
   "display_name": "Python 3",
   "language": "python",
   "name": "python3"
  },
  "language_info": {
   "codemirror_mode": {
    "name": "ipython",
    "version": 3
   },
   "file_extension": ".py",
   "mimetype": "text/x-python",
   "name": "python",
   "nbconvert_exporter": "python",
   "pygments_lexer": "ipython3",
   "version": "3.6.5"
  }
 },
 "nbformat": 4,
 "nbformat_minor": 2
}
