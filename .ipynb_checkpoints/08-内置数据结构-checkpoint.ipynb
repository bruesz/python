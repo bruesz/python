{
 "cells": [
  {
   "cell_type": "markdown",
   "metadata": {},
   "source": [
    "# 汉诺塔问题\n",
    "- A,B,C三个柱子，盘子在A柱子上按金字塔从小到大排列\n",
    "- 每次只能移动一个盘子\n",
    "- 任何一次移动，必须大盘子在下面，小盘子在上面\n",
    "- 最后盘子按顺序从放到C上\n",
    "- 步骤：\n",
    "    1. 一个盘子1\n",
    "        - 把1从A直接挪到C  (A--> C)\n",
    "    2. 俩个盘子1,2\n",
    "        - 把1从A挪到B    (A--> B)\n",
    "        - 把2挪到C       (A--> C)\n",
    "        - 把1从B挪到C    (B--> C)\n",
    "    3. 三个盘子1,2,3\n",
    "        - 把上面两个借助C先移到B   (2, A-->C-->B)\n",
    "            - 把1 移到C\n",
    "            - 把2 移到B\n",
    "            - 把1 移到B\n",
    "        - 把3移到C               (1, A-->B-->C)\n",
    "        - 把 1,2 从B借助A移到C  （1,2 在B柱）(2, B-->A-->C)\n",
    "            - 把 1 移到A\n",
    "            - 把 2 移到C\n",
    "            - 把 1 移到C\n",
    "    4. N个盘子\n",
    "         - 把上面N-1个先移到B柱 （N-1，A-->C-->B）\n",
    "         - 把底下第N个移到C柱    （1，A-->C）\n",
    "         - 把N-1个盘借助A移到C   (N-1, B-->A-->C)\n",
    "        "
   ]
  },
  {
   "cell_type": "code",
   "execution_count": 1,
   "metadata": {},
   "outputs": [
    {
     "name": "stdout",
     "output_type": "stream",
     "text": [
      "1个盘子\n",
      "A --> C\n",
      "2个盘子\n",
      "A --> B\n",
      "A --> C\n",
      "B --> C\n",
      "3个盘子\n",
      "A --> C\n",
      "A --> B\n",
      "C --> B\n",
      "A --> C\n",
      "B --> A\n",
      "B --> C\n",
      "A --> C\n",
      "5个盘子 \n",
      "A --> C\n",
      "A --> B\n",
      "C --> B\n",
      "A --> C\n",
      "B --> A\n",
      "B --> C\n",
      "A --> C\n",
      "A --> B\n",
      "C --> B\n",
      "C --> A\n",
      "B --> A\n",
      "C --> B\n",
      "A --> C\n",
      "A --> B\n",
      "C --> B\n",
      "A --> C\n",
      "B --> A\n",
      "B --> C\n",
      "A --> C\n",
      "B --> A\n",
      "C --> B\n",
      "C --> A\n",
      "B --> A\n",
      "B --> C\n",
      "A --> C\n",
      "A --> B\n",
      "C --> B\n",
      "A --> C\n",
      "B --> A\n",
      "B --> C\n",
      "A --> C\n"
     ]
    }
   ],
   "source": [
    "# 汉诺塔的实现方式\n",
    "# n: 多少个盘子\n",
    "# A, B, C 代表 起始盘子A，辅助盘子B，目的盘子C\n",
    "\n",
    "#表示移动位置，从a到b\n",
    "def move(a,b):\n",
    "    print(a,\"-->\",b)\n",
    "    \n",
    "# 汉诺塔实现\n",
    "def hanoi(n, A, B, C):\n",
    "    if n == 1:\n",
    "        move(A,C)\n",
    "        return None\n",
    "    if n == 2:\n",
    "        move(A,B)\n",
    "        move(A,C)\n",
    "        move(B,C)\n",
    "        return None\n",
    "    if n >= 3:\n",
    "        hanoi(n-1, A, C, B)    #上面的N-1个盘子从A上，借助C，移到B\n",
    "        move(A,C)\n",
    "        hanoi(n-1, B, A, C)   # 在B上个N-1个盘子，借助B移到C\n",
    "        \n",
    "# 测试\n",
    "print(\"1个盘子\")\n",
    "hanoi(1,\"A\", \"B\", \"C\")\n",
    "print(\"2个盘子\")\n",
    "hanoi(2,\"A\", \"B\", \"C\")\n",
    "print(\"3个盘子\")\n",
    "hanoi(3,\"A\", \"B\", \"C\")        \n",
    "print(\"5个盘子 \")\n",
    "hanoi(5,\"A\", \"B\", \"C\")"
   ]
  },
  {
   "cell_type": "markdown",
   "metadata": {},
   "source": [
    "# List(列表）\n",
    "- del 删除命令\n"
   ]
  },
  {
   "cell_type": "code",
   "execution_count": 4,
   "metadata": {},
   "outputs": [
    {
     "name": "stdout",
     "output_type": "stream",
     "text": [
      "80204040\n",
      "80204040\n",
      "[1, 2, 4, 5, 6]\n"
     ]
    }
   ],
   "source": [
    "# del 删除\n",
    "a = [1,2,3,4,5,6]\n",
    "print(id(a))\n",
    "del a[2]   #删除第三个\n",
    "print(id(a))  #可以看到删除后和删除前的id是一样的，列表是同一个，原地删除\n",
    "print(a)\n"
   ]
  },
  {
   "cell_type": "markdown",
   "metadata": {},
   "source": [
    "### 列表相加\n",
    "- 使用加号链接两个列表\n"
   ]
  },
  {
   "cell_type": "code",
   "execution_count": 6,
   "metadata": {},
   "outputs": [
    {
     "name": "stdout",
     "output_type": "stream",
     "text": [
      "[1, 2, 3, 4, 5, 6, 7, 8, 9, 'a', 'b', 'c']\n"
     ]
    }
   ],
   "source": [
    "# 列表相加，使用加号链接两个或者多个列表\n",
    "a = [1,2,3,4,5]\n",
    "b = [6,7,8,9]\n",
    "c = ['a','b','c']\n",
    "d = a + b + c\n",
    "print(d)"
   ]
  },
  {
   "cell_type": "code",
   "execution_count": 8,
   "metadata": {},
   "outputs": [
    {
     "name": "stdout",
     "output_type": "stream",
     "text": [
      "['a', 'b', 'c', 'a', 'b', 'c', 'a', 'b', 'c', 'a', 'b', 'c', 'a', 'b', 'c']\n"
     ]
    }
   ],
   "source": [
    "# 列表相乘\n",
    "# 列表直接跟一个乘数相乘\n",
    "\n",
    "a = ['a','b','c']\n",
    "b = a * 5\n",
    "print(b)"
   ]
  },
  {
   "cell_type": "code",
   "execution_count": 11,
   "metadata": {},
   "outputs": [
    {
     "name": "stdout",
     "output_type": "stream",
     "text": [
      "False\n",
      "True\n",
      "True\n"
     ]
    }
   ],
   "source": [
    "# 成员资格运算\n",
    "# 判断一个元素是否在list里面\n",
    "\n",
    "a = [1,2,3,4,5,6]\n",
    "b = 8\n",
    "print(b in a)\n",
    "\n",
    "b = 4\n",
    "print(b in a)\n",
    "\n",
    "b = 9\n",
    "print(b not in a)"
   ]
  },
  {
   "cell_type": "markdown",
   "metadata": {},
   "source": [
    "# 列表的遍历\n",
    "- for\n",
    "- while\n"
   ]
  },
  {
   "cell_type": "code",
   "execution_count": 16,
   "metadata": {},
   "outputs": [
    {
     "name": "stdout",
     "output_type": "stream",
     "text": [
      "1\n",
      "2\n",
      "3\n",
      "4\n",
      "5\n",
      "7\n",
      "8\n"
     ]
    }
   ],
   "source": [
    "# for in list\n",
    "\n",
    "a = [1,2,3,4,5,7,8]\n",
    "\n",
    "for i in a:\n",
    "    print(i)"
   ]
  },
  {
   "cell_type": "code",
   "execution_count": 20,
   "metadata": {},
   "outputs": [
    {
     "name": "stdout",
     "output_type": "stream",
     "text": [
      "I love wangxiaoxiao\n",
      "I\n",
      " \n",
      "l\n",
      "o\n",
      "v\n",
      "e\n",
      " \n",
      "w\n",
      "a\n",
      "n\n",
      "g\n",
      "x\n",
      "i\n",
      "a\n",
      "o\n",
      "x\n",
      "i\n",
      "a\n",
      "o\n"
     ]
    }
   ],
   "source": [
    "# 列表里只有一个字符串值\n",
    "b = [\"I love wangxiaoxiao\"]\n",
    "for i in b:\n",
    "    print(i)\n",
    "    \n",
    "# 如果想按字母顺序打印, 可以用一个字符串变量\n",
    "b = \"I love wangxiaoxiao\"\n",
    "for i in b:\n",
    "    print(i)"
   ]
  },
  {
   "cell_type": "code",
   "execution_count": 22,
   "metadata": {},
   "outputs": [
    {
     "name": "stdout",
     "output_type": "stream",
     "text": [
      "1\n",
      "2\n",
      "3\n",
      "4\n",
      "5\n",
      "6\n"
     ]
    }
   ],
   "source": [
    "# while 循环访问list\n",
    "# 一般不用while遍历list，很麻烦\n",
    "\n",
    "a = [1,2,3,4,5,6]\n",
    "length = len(a)\n",
    "#idx表示是list的下标\n",
    "idx = 0\n",
    "\n",
    "while idx < length:\n",
    "    print(a[idx])\n",
    "    idx += 1"
   ]
  },
  {
   "cell_type": "markdown",
   "metadata": {},
   "source": [
    "# 列表内涵  list content\n",
    "- 通过简单方法创建列表\n"
   ]
  },
  {
   "cell_type": "code",
   "execution_count": 26,
   "metadata": {},
   "outputs": [
    {
     "name": "stdout",
     "output_type": "stream",
     "text": [
      "['a', 'b', 'c']\n"
     ]
    }
   ],
   "source": [
    "# for 创建\n",
    "a = ['a', 'b', 'c']\n",
    "\n",
    "# 用list a 创建一个list b\n",
    "# 对于所有a中的元素，逐个放入新列表b中\n",
    "b = [i for i in a]     #这里等同于b = a\n",
    "print(b)"
   ]
  },
  {
   "cell_type": "code",
   "execution_count": 29,
   "metadata": {},
   "outputs": [
    {
     "name": "stdout",
     "output_type": "stream",
     "text": [
      "[10, 20, 30]\n"
     ]
    }
   ],
   "source": [
    "# for 创建\n",
    "a = [1,2,3]\n",
    "\n",
    "# 用list a 创建一个list b\n",
    "# 对于所有a中的元素，逐个乘以10放入新列表b中\n",
    "b = [i*10 for i in a]     \n",
    "print(b)"
   ]
  },
  {
   "cell_type": "code",
   "execution_count": 33,
   "metadata": {},
   "outputs": [
    {
     "name": "stdout",
     "output_type": "stream",
     "text": [
      "[1, 2, 3, 4, 5, 6, 7, 8, 9, 10, 11, 12, 13, 14, 15, 16, 17, 18, 19, 20, 21, 22, 23, 24, 25, 26, 27, 28, 29, 30, 31, 32, 33, 34]\n",
      "[2, 4, 6, 8, 10, 12, 14, 16, 18, 20, 22, 24, 26, 28, 30, 32, 34]\n"
     ]
    }
   ],
   "source": [
    "# 还可以过滤原来list中的内容并放入新列表\n",
    "# 比如原有列表a， 需要把所有a中偶数生成新列表b\n",
    "\n",
    "a = [x for x in range(1,35)]   #生成从1 到34 的列表\n",
    "print(a)\n",
    "\n",
    "# 带条件表达式的列表生成式\n",
    "b = [m for m in a if m % 2 == 0]\n",
    "print(b)"
   ]
  },
  {
   "cell_type": "code",
   "execution_count": 40,
   "metadata": {},
   "outputs": [
    {
     "name": "stdout",
     "output_type": "stream",
     "text": [
      "[1, 2, 3]\n",
      "[100, 200, 300]\n",
      "[101, 201, 301, 102, 202, 302, 103, 203, 303]\n",
      "[101, 201, 102, 202, 103, 203]\n"
     ]
    }
   ],
   "source": [
    "# 列表生成可以嵌套\n",
    "# 有俩个列表a，b\n",
    "\n",
    "a = [i for i in range(1,4)]  #生成 list a\n",
    "\n",
    "print(a)\n",
    "b = [i for i in range(100,400) if i% 100 ==0]\n",
    "print(b)\n",
    "\n",
    "# 列表嵌套,等于两个for循环的嵌套\n",
    "c = [m+n for m in a for n in b]\n",
    "print(c)\n",
    "\n",
    "\n",
    "# 列表嵌套,等于两个for循环的嵌套,加上过滤条件\n",
    "c = [m+n for m in a for n in b if m+n <= 300]\n",
    "print(c)\n"
   ]
  },
  {
   "cell_type": "markdown",
   "metadata": {},
   "source": [
    "#  关于列表的常用函数\n"
   ]
  },
  {
   "cell_type": "code",
   "execution_count": 44,
   "metadata": {},
   "outputs": [
    {
     "name": "stdout",
     "output_type": "stream",
     "text": [
      "99\n",
      "9\n"
     ]
    }
   ],
   "source": [
    "# len: 求列表长度\n",
    "a = [x for x in range(1,100)]\n",
    "print(len(a))\n",
    "\n",
    "# max/min: 求列表中的最大值/最小值\n",
    "a = [1,3,6,4,8,5,9,8]\n",
    "print(max(a))"
   ]
  },
  {
   "cell_type": "code",
   "execution_count": 50,
   "metadata": {},
   "outputs": [
    {
     "name": "stdout",
     "output_type": "stream",
     "text": [
      "[1, 2, 3]\n",
      "['I', ' ', 'l', 'o', 'v', 'e', ' ', 'w', 'a', 'n', 'g', 'x', 'i', 'a', 'o', 'x', 'i', 'a', 'o']\n",
      "<class 'str'>\n"
     ]
    }
   ],
   "source": [
    "# list： 将其他格式的数据转换成list\n",
    "a = [1,2,3]\n",
    "print(list(a))\n",
    "s = \"I love wangxiaoxiao\"\n",
    "print(list(s))\n",
    "print(type(s))"
   ]
  }
 ],
 "metadata": {
  "kernelspec": {
   "display_name": "Python 3",
   "language": "python",
   "name": "python3"
  },
  "language_info": {
   "codemirror_mode": {
    "name": "ipython",
    "version": 3
   },
   "file_extension": ".py",
   "mimetype": "text/x-python",
   "name": "python",
   "nbconvert_exporter": "python",
   "pygments_lexer": "ipython3",
   "version": "3.6.5"
  }
 },
 "nbformat": 4,
 "nbformat_minor": 2
}
