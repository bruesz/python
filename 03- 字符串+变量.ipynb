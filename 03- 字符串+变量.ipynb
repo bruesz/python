{
 "cells": [
  {
   "cell_type": "markdown",
   "metadata": {},
   "source": [
    "# 字符串\n",
    "- 转义字符\n",
    "- 格式化\n",
    "- 内建函数（后延）\n",
    "\n",
    "## 转义字符\n",
    "- 用一个特殊的方法表示不方面写出的内容，比如回车键，换行键\n",
    "ruugo - 借助反斜杠\n",
    "# 运算符\n",
    "- 运算符分类\n",
    "    - 算数运算符： + - * /\n",
    "    - 比较或者关系运算符\n",
    "    - 赋值运算符\n",
    "    - 逻辑运算符\n",
    "    - 位运算\n",
    "    - 成员运算\n",
    "    - 身份运算符\n",
    "    "
   ]
  },
  {
   "cell_type": "code",
   "execution_count": null,
   "metadata": {},
   "outputs": [],
   "source": [
    "# 除法\n",
    "#在Python2.x和Python3.x中，除号（/）结果可能不一样，这里以3系列为准\n",
    "a = 9/4\n",
    "print(a)\n",
    "#取余数 %\n",
    "a= 9 % 4\n",
    "print(a)\n",
    "#//表示取整，也叫地板除\n",
    "a = 9//4\n",
    "print(a)\n",
    "\n",
    "#** 求幂\n",
    "a = 3**3\n",
    "print(a)"
   ]
  },
  {
   "cell_type": "code",
   "execution_count": null,
   "metadata": {},
   "outputs": [],
   "source": [
    "#如何用字符串表示出Let's go\n",
    "s = \"Let's go\"\n",
    "s1 = 'Let\\'s go'\n",
    "ss =\"c:\\\\user\"\n",
    "print(s)\n",
    "print(s1)\n",
    "print(ss)\n"
   ]
  },
  {
   "cell_type": "markdown",
   "metadata": {},
   "source": [
    "## 比较运算符\n",
    "- 对两个变量或者值进行比较的运算符\n",
    "- 比较的结果是布尔值， 既 True/False\n"
   ]
  },
  {
   "cell_type": "code",
   "execution_count": null,
   "metadata": {},
   "outputs": [],
   "source": [
    "# == 等于\n",
    "a = 3**4\n",
    "b = a ==80\n",
    "print(b)\n",
    "\n",
    "# != 不等于\n",
    "print(9!=8)"
   ]
  },
  {
   "cell_type": "markdown",
   "metadata": {},
   "source": [
    "## 赋值运算符\n",
    "- a = 0\n",
    "- c = a = 4"
   ]
  },
  {
   "cell_type": "code",
   "execution_count": null,
   "metadata": {},
   "outputs": [],
   "source": [
    "#= 赋值\n",
    "a = 0\n",
    "c = a =7\n",
    "\n",
    "# += 缩写\n",
    "a = 0\n",
    "a += 7\n",
    "print(a)\n",
    "\n",
    "#所有的数学运算符都有缩写形式：  += -= *= /= **= //= %="
   ]
  },
  {
   "cell_type": "markdown",
   "metadata": {},
   "source": [
    "# 逻辑运算符\n",
    "- 对布尔值进行计算的符号\n",
    "- and 逻辑与\n",
    "- or 逻辑或\n",
    "- not 逻辑非\n",
    "- Python没有异或运算\n",
    "- 运算规则\n",
    "    - and 看做乘法   or 看做加法\n",
    "    - True看做1   False看做0\n",
    "    - 则逻辑运算就能转换成整数数学运算\n",
    "    - 最后结果如果是0则是False，否则为True\n",
    "- 逻辑运算的短路问题\n",
    "    - 逻辑运算式，按照运算顺序计算，一旦能够确定式子未来的值，则不再计算，直接返回。"
   ]
  },
  {
   "cell_type": "code",
   "execution_count": null,
   "metadata": {},
   "outputs": [],
   "source": [
    "a = True\n",
    "b = False\n",
    "c = True\n",
    "#以下等价于;  d = 1 * 0 + 1 = 1\n",
    "d = a and b or c\n",
    "\n",
    "#逻辑运算的短路\n",
    "a = 9\n",
    "c =6\n",
    "#c = a or (b=6)\n",
    "#print(b)"
   ]
  },
  {
   "cell_type": "markdown",
   "metadata": {},
   "source": [
    "## 成员运算符\n",
    "    . 用来检测某个变量是否是另外一个变量的成员\n",
    "    . in \n",
    "    . not in\n",
    "## 身份运算符\n",
    "    . is\n",
    "    . is not "
   ]
  },
  {
   "cell_type": "markdown",
   "metadata": {},
   "source": [
    "l = [1,2,3,4,5]\n",
    "a = 9\n",
    "b = a in l\n",
    "print(b)\n",
    "\n",
    "a=4\n",
    "print(a in l)"
   ]
  },
  {
   "cell_type": "code",
   "execution_count": 1,
   "metadata": {},
   "outputs": [
    {
     "name": "stdout",
     "output_type": "stream",
     "text": [
      "True\n",
      "False\n"
     ]
    }
   ],
   "source": [
    "a = 9\n",
    "b = 9\n",
    "print (a is b)\n",
    "\n",
    "a = \"abc is a\"\n",
    "b = \"abc is a\"\n",
    "print(a is b)"
   ]
  }
 ],
 "metadata": {
  "kernelspec": {
   "display_name": "Python 3",
   "language": "python",
   "name": "python3"
  },
  "language_info": {
   "codemirror_mode": {
    "name": "ipython",
    "version": 3
   },
   "file_extension": ".py",
   "mimetype": "text/x-python",
   "name": "python",
   "nbconvert_exporter": "python",
   "pygments_lexer": "ipython3",
   "version": "3.6.5"
  }
 },
 "nbformat": 4,
 "nbformat_minor": 2
}
