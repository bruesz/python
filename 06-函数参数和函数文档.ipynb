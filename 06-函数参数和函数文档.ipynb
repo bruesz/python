{
 "cells": [
  {
   "cell_type": "markdown",
   "metadata": {},
   "source": [
    "# 四类参数\n",
    "- 普通参数\n",
    "- 默认参数\n",
    "- 关键字参数\n",
    "- 收集参数\n",
    "\n",
    "## 关键字参数\n",
    "- 语法\n",
    "    def func(p1=v1,p2=v2,...):\n",
    "        func_body\n",
    "    \n",
    "    调用函数：\n",
    "    func(p1=value1,p2=value2,...)\n",
    "    \n",
    "- 比较麻烦，但好处是：\n",
    "    - 不容易混淆，一般形参和实参只是按照位置一一对应，容易出错\n",
    "    - 使用关键字参数，可以不考虑参数位置\n",
    "    "
   ]
  },
  {
   "cell_type": "code",
   "execution_count": 28,
   "metadata": {},
   "outputs": [
    {
     "name": "stdout",
     "output_type": "stream",
     "text": [
      "I am a student\n",
      "我叫jingjing, 我今年18岁了，我住在我家\n",
      "I am a student\n",
      "我叫wangwang, 我今年20岁了，我住在广州\n",
      "I am a student\n",
      "我叫wangwang, 我今年20岁了，我住在广州\n"
     ]
    }
   ],
   "source": [
    "#关键字参数案例\n",
    "def stu(name, age, addr):\n",
    "    print(\"I am a student\")\n",
    "    print(\"我叫{0}, 我今年{1}岁了，我住在{2}\".format(name,age,addr))\n",
    "    \n",
    "name = \"jingjing\"\n",
    "age = 18\n",
    "addr = \"我家\"\n",
    "\n",
    "#普通参数，只按照位置传递，容易出错\n",
    "stu(name, age, addr)\n",
    "\n",
    "n = \"wangwang\"\n",
    "a = 20\n",
    "addr = \"广州\"\n",
    "\n",
    "#关键字参数\n",
    "stu(name=n, age=a, addr=addr)\n",
    "\n",
    "stu(name=n, addr=addr, age=a)\n"
   ]
  },
  {
   "cell_type": "markdown",
   "metadata": {},
   "source": [
    "## 收集参数\n",
    "- 把没有位置，不能喝定义时的参数位置相对应的参数，放入一个特定的数据结构中\n",
    "- 语法\n",
    "    def func(*args):\n",
    "            func_body   #按照list使用方式访问args得到传入的参数\n",
    "        \n",
    "    调用: 可以写入任意多个参数\n",
    "    func(p1, p2, p3, ...)\n",
    "    \n",
    " - 参数名args不是必须这样写，但是约定俗成推荐写成args\n",
    " - 参数名args前需要加星号\n",
    " - 收集参数可以和其他参数共存\n",
    " "
   ]
  },
  {
   "cell_type": "code",
   "execution_count": 29,
   "metadata": {},
   "outputs": [
    {
     "name": "stdout",
     "output_type": "stream",
     "text": [
      "***Hello 大家好，我自我介绍下，简单说两句：***\n",
      "<class 'tuple'>\n",
      "zhangzhang\n",
      "40\n",
      "广州市天河区\n",
      "我喜欢汪汪\n",
      "我目前单身\n",
      "***我的介绍就到这里***\n",
      "***Hello 大家好，我自我介绍下，简单说两句：***\n",
      "<class 'tuple'>\n",
      "郭xx\n",
      "***我的介绍就到这里***\n",
      "***Hello 大家好，我自我介绍下，简单说两句：***\n",
      "<class 'tuple'>\n",
      "***我的介绍就到这里***\n"
     ]
    }
   ],
   "source": [
    "# 收集参数代码\n",
    "# 函数模拟一个学生进行自我介绍，但具体内容不清楚\n",
    "# args当成一个list\n",
    "\n",
    "def stu(*args):\n",
    "    print(\"***Hello 大家好，我自我介绍下，简单说两句：***\")\n",
    "    print(type(args))\n",
    "    for i in args:\n",
    "        print(i)\n",
    "    print(\"***我的介绍就到这里***\")\n",
    "\n",
    "stu(\"zhangzhang\", 40, \"广州市天河区\", \"我喜欢汪汪\", \"我目前单身\")\n",
    "stu(\"郭xx\")\n",
    "\n",
    "#收集参数可以不带任何实参调用\n",
    "stu()\n",
    "\n",
    "#收集参数如果使用关键字参数格式，会出现问题\n",
    "# stu(name=\"zzz\",age=18)"
   ]
  },
  {
   "cell_type": "markdown",
   "metadata": {},
   "source": [
    "### 收集参数之关键字字典参数\n",
    "- 把关键字参数按照字典格式存入收集参数\n",
    "- 语法：\n",
    "    def func(**kwargs):\n",
    "        func_body\n",
    "        \n",
    "    调用：\n",
    "    func(p1=v1, p2=v2, p3=v3,...)\n",
    "    "
   ]
  },
  {
   "cell_type": "code",
   "execution_count": 31,
   "metadata": {},
   "outputs": [
    {
     "name": "stdout",
     "output_type": "stream",
     "text": [
      "****************************************\n",
      "Hello 大家好，我自我介绍下，简单说两句：\n",
      "<class 'dict'>\n",
      "name\n",
      "age\n",
      "addr\n",
      "hobby\n",
      "status\n",
      "name --- zhangzhang\n",
      "age --- 40\n",
      "addr --- 广州市天河区\n",
      "hobby --- 我喜欢汪汪\n",
      "status --- 我目前单身\n",
      "****************************************\n",
      "Hello 大家好，我自我介绍下，简单说两句：\n",
      "<class 'dict'>\n",
      "name\n",
      "name --- 郭xx\n",
      "****************************************\n",
      "Hello 大家好，我自我介绍下，简单说两句：\n",
      "<class 'dict'>\n"
     ]
    }
   ],
   "source": [
    "# 收集参数代码\n",
    "# 函数模拟一个学生进行自我介绍，但具体内容不清楚\n",
    "# args当成一个list\n",
    "\n",
    "def stu(**kwargs):\n",
    "    print(\"*\" * 40)\n",
    "    print(\"Hello 大家好，我自我介绍下，简单说两句：\")\n",
    "    print(type(kwargs))\n",
    "    for k in kwargs.keys():\n",
    "        print(k)\n",
    "    for k,v in kwargs.items():\n",
    "        print(k,\"---\",v)\n",
    "    #print(\"***我的介绍就到这里***\")\n",
    "\n",
    "stu(name=\"zhangzhang\", age=40, addr=\"广州市天河区\", hobby=\"我喜欢汪汪\", status=\"我目前单身\")\n",
    "stu(name=\"郭xx\")\n",
    "stu()"
   ]
  },
  {
   "cell_type": "markdown",
   "metadata": {},
   "source": [
    "## 收集参数混合调用的顺序问题\n",
    "- 收集参数，关键字参数，普通参数可以混合使用\n",
    "- 使用规则：普通参数和关键字参数优先\n",
    "- 定义顺序：\n",
    "    - 普通参数，收集参数tuple, 关键字参数(默认参数)，收集参数dict\n",
    "        def func(name, age=18, *args, **kwargs)"
   ]
  },
  {
   "cell_type": "code",
   "execution_count": 45,
   "metadata": {},
   "outputs": [
    {
     "name": "stdout",
     "output_type": "stream",
     "text": [
      "Hello大家好\n",
      "我叫liuying, 我今年19岁了。\n",
      "我没有爱好\n",
      "********************\n",
      "******************************\n",
      "Hello大家好\n",
      "我叫liuying, 我今年19岁了。\n",
      "我的爱好是电脑\n",
      "********************\n",
      "******************************\n",
      "Hello大家好\n",
      "我叫liuying, 我今年19岁了。\n",
      "我的爱好是打电玩\n",
      "********************\n",
      "笑笑\n",
      "旺旺旺\n",
      "******************************\n",
      "hobby1 --- 游泳\n",
      "hobby3 --- 看书\n"
     ]
    }
   ],
   "source": [
    "# 混合调用案例\n",
    "def stu(name, age, *args, hobby=\"None\", **kwargs):\n",
    "    print(\"Hello大家好\")\n",
    "    print(\"我叫{0}, 我今年{1}岁了。\".format(name,age))\n",
    "    if hobby == \"None\":\n",
    "        print(\"我没有爱好\")\n",
    "    else:\n",
    "        print(\"我的爱好是{0}\".format(hobby))\n",
    "    print(\"*\" * 20)\n",
    "    \n",
    "    for i in args:\n",
    "        print(i)\n",
    "    \n",
    "    print(\"*\" * 30)\n",
    "    for k,v in kwargs.items():\n",
    "        print(k,\"---\",v)\n",
    "        \n",
    "#开始调用函数\n",
    "name = \"liuying\"\n",
    "age = 19\n",
    "\n",
    "stu(name,age)\n",
    "\n",
    "stu(name, age, hobby=\"电脑\")\n",
    "\n",
    "stu(name, age, \"笑笑\",\"旺旺旺\", hobby=\"打电玩\", hobby1=\"游泳\", hobby3=\"看书\")\n",
    "        "
   ]
  },
  {
   "cell_type": "markdown",
   "metadata": {},
   "source": [
    "## 收集参数的解包问题\n",
    "- 把参数放到list或者字典里，直接把list/dict中的值放入参数中\n",
    "- 语法：参看案例"
   ]
  },
  {
   "cell_type": "code",
   "execution_count": 56,
   "metadata": {},
   "outputs": [
    {
     "name": "stdout",
     "output_type": "stream",
     "text": [
      "********************\n",
      "<class 'tuple'>\n",
      "1\n",
      "['zhangsan', 19, '男', '游泳']\n",
      "********************\n",
      "<class 'tuple'>\n",
      "4\n",
      "zhangsan\n",
      "19\n",
      "男\n",
      "游泳\n"
     ]
    }
   ],
   "source": [
    "# 收集参数的解包问题\n",
    "\n",
    "def stu(*args):\n",
    "    print(\"*\" * 20 )\n",
    "    print(type(args))\n",
    "    print(len(args))\n",
    "    for i in args:\n",
    "        print(i)\n",
    "        \n",
    "l = list()\n",
    "l.append(\"zhangsan\")\n",
    "l.append(19)\n",
    "l.append(\"男\")\n",
    "l.append(\"游泳\")\n",
    "#只能打印一行\n",
    "stu(l)\n",
    "\n",
    "#传入解包符号\n",
    "stu(*l)"
   ]
  },
  {
   "cell_type": "markdown",
   "metadata": {},
   "source": [
    "## 返回值\n",
    "    - 函数和过程的区别：\n",
    "        - 有无返回值\n",
    "    - 需要用return显示返回内容\n",
    "    - 没有声明，默认返回 None\n",
    "    - 推荐写法，无论有无返回值，最后都要以return结束"
   ]
  },
  {
   "cell_type": "code",
   "execution_count": 61,
   "metadata": {},
   "outputs": [
    {
     "name": "stdout",
     "output_type": "stream",
     "text": [
      "有返回值\n",
      "1\n",
      "没有返回值\n",
      "None\n"
     ]
    }
   ],
   "source": [
    "# 返回值示例\n",
    "\n",
    "def func_1():\n",
    "    print(\"有返回值\")\n",
    "    return 1\n",
    "\n",
    "def func_2():\n",
    "    print(\"没有返回值\")\n",
    "    \n",
    "f1 = func_1()\n",
    "print(f1)\n",
    "\n",
    "f2 = func_2()\n",
    "print(f2)"
   ]
  },
  {
   "cell_type": "markdown",
   "metadata": {},
   "source": [
    "# 函数文档\n",
    "- 函数的文档的作用是对当前函数提供相关的参考信息\n",
    "- 文档的写法：\n",
    "    - 在函数内部开始的第一行使用三字符串定义符\n",
    "    - 一般具有特定格式\n",
    "    - 参看案例\n",
    "    \n",
    "- 文档查看\n",
    "    - 使用help函数, 形如 help(func)\n",
    "    - 使用doc,  参看案例：  func.__doc__  (俩个下划线)\n",
    "    "
   ]
  },
  {
   "cell_type": "code",
   "execution_count": 65,
   "metadata": {},
   "outputs": [
    {
     "name": "stdout",
     "output_type": "stream",
     "text": [
      "Help on function stu in module __main__:\n",
      "\n",
      "stu(name, age, *args)\n",
      "    这是文档的文字内容\n",
      "    :param name: 表示学生的姓名\n",
      "    :param age: 表示学生的年龄\n",
      "    :return: 此函数没有返回值\n",
      "\n"
     ]
    },
    {
     "data": {
      "text/plain": [
       "'\\n    这是文档的文字内容\\n    :param name: 表示学生的姓名\\n    :param age: 表示学生的年龄\\n    :return: 此函数没有返回值\\n    '"
      ]
     },
     "execution_count": 65,
     "metadata": {},
     "output_type": "execute_result"
    }
   ],
   "source": [
    "#文档案例\n",
    "#函数stu是模拟一个学生的自我介绍\n",
    "def stu(name, age, *args):\n",
    "    '''\n",
    "    这是文档的文字内容\n",
    "    :param name: 表示学生的姓名\n",
    "    :param age: 表示学生的年龄\n",
    "    :return: 此函数没有返回值\n",
    "    '''\n",
    "    print(\"this is body\")\n",
    "    \n",
    "# 查看文档函数\n",
    "help(stu)\n",
    "stu.__doc__"
   ]
  }
 ],
 "metadata": {
  "kernelspec": {
   "display_name": "Python 3",
   "language": "python",
   "name": "python3"
  },
  "language_info": {
   "codemirror_mode": {
    "name": "ipython",
    "version": 3
   },
   "file_extension": ".py",
   "mimetype": "text/x-python",
   "name": "python",
   "nbconvert_exporter": "python",
   "pygments_lexer": "ipython3",
   "version": "3.6.5"
  }
 },
 "nbformat": 4,
 "nbformat_minor": 2
}
