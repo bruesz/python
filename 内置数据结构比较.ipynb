{
 "cells": [
  {
   "cell_type": "code",
   "execution_count": 12,
   "metadata": {},
   "outputs": [
    {
     "name": "stdout",
     "output_type": "stream",
     "text": [
      "<class 'list'>\n",
      "<class 'list'>\n",
      "<class 'tuple'>\n",
      "<class 'tuple'>\n",
      "{None}\n",
      "<class 'set'>\n",
      "<class 'dict'>\n",
      "<class 'dict'>\n"
     ]
    }
   ],
   "source": [
    "# 创建空数据结构\n",
    "# list\n",
    "l1 = []\n",
    "l2 = list()\n",
    "print(type(l1))\n",
    "print(type(l2))\n",
    "# tuple\n",
    "t1 = ()\n",
    "t2 = tuple()\n",
    "print(type(t1))\n",
    "print(type(t2))\n",
    "#set\n",
    "#s1 = { }  只能创建字典，不能创建空集合\n",
    "print(s1)\n",
    "s2 = set()\n",
    "\n",
    "#print(type(s1))\n",
    "print(type(s2))\n",
    "\n",
    "#dict\n",
    "d1 = {}\n",
    "d2 = dict()\n",
    "print(type(d1))\n",
    "print(type(d2))\n",
    "\n"
   ]
  }
 ],
 "metadata": {
  "kernelspec": {
   "display_name": "Python 3",
   "language": "python",
   "name": "python3"
  },
  "language_info": {
   "codemirror_mode": {
    "name": "ipython",
    "version": 3
   },
   "file_extension": ".py",
   "mimetype": "text/x-python",
   "name": "python",
   "nbconvert_exporter": "python",
   "pygments_lexer": "ipython3",
   "version": "3.6.5"
  }
 },
 "nbformat": 4,
 "nbformat_minor": 2
}
