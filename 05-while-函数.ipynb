{
 "cells": [
  {
   "cell_type": "markdown",
   "metadata": {},
   "source": [
    "# While函数\n",
    "- 一个循环语句\n",
    "- 表示当某个条件成立的时候，就重复执行\n",
    "- 适用于不知道具体循环次数，但能够确定循环的成立条件\n",
    "- while语法：\n",
    "    while 条件表达式：\n",
    "        语句块\n"
   ]
  },
  {
   "cell_type": "code",
   "execution_count": null,
   "metadata": {},
   "outputs": [],
   "source": [
    "#如果说年利率是6.7%， 在复利的情况下（利滚利）,则多少年后本钱会翻倍？\n",
    "\n",
    "benqian = 10000\n",
    "year = 0\n",
    "while benqian <20000:\n",
    "    benqian = benqian*(1+0.067)\n",
    "    year += 1\n",
    "    print(\"第{0}年拿了{1}块钱\".format(year,benqian))\n",
    "print(\"需要{0}年本钱会翻倍\".format(year))"
   ]
  },
  {
   "cell_type": "markdown",
   "metadata": {},
   "source": [
    "# 函数\n",
    "- 代码的一种组织形式\n",
    "- 完成一项特定的功能，可以重复利用。\n",
    "- 函数使用\n",
    "    - 函数需要先定义\n",
    "    - 调用（使用）函数\n",
    "    "
   ]
  },
  {
   "cell_type": "code",
   "execution_count": null,
   "metadata": {},
   "outputs": [],
   "source": [
    "#定义一个函数\n",
    "# 1. def关键字， 后跟一个空格\n",
    "# 2. 函数名，自己定义，起名需要遵循命名规则，约定俗成，大驼峰命名只给类用。\n",
    "# 3. 后面括号和冒号不能省,括号内可以有参数\n",
    "# 4. 函数所有代码缩进\n",
    "\n",
    "def func():\n",
    "    print(\"我是一个函数\")\n",
    "    print(\"我会完成一定的功能\")\n",
    "    print(\"我结束了!\")\n",
    "\n",
    "def func1():\n",
    "    print(\"我是另外一个函数\")\n",
    "    print(\"我也会完成一定的功能\")\n",
    "    print(\"我也结束了!\")\n",
    "    \n",
    "    \n",
    "func()\n",
    "func()\n",
    "func1()\n"
   ]
  },
  {
   "cell_type": "markdown",
   "metadata": {},
   "source": [
    "## 函数的参数和返回值\n",
    "- 参数：负责给函数传递一些必要的数据或者信息\n",
    "    - 形参（形式参数）：函数定义的时候用到的参数，没有具体值，只是一个占位符号\n",
    "    - 实参（实际参数）： 在调用的时候用到的参数\n",
    "- 返回值：函数的执行结果\n",
    "    - 使用return关键字\n",
    "    - 如果没有return，默认返回None\n",
    "    - 函数一旦执行return语句，无条件返回，后面的代码自动忽略"
   ]
  },
  {
   "cell_type": "code",
   "execution_count": null,
   "metadata": {},
   "outputs": [],
   "source": [
    "# 参数的使用\n",
    "# 参数person只是一个符号，代表调用的时候的某一个数据\n",
    "\n",
    "def hello(person):\n",
    "    print(\"{0},你肿么了？\".format(person))\n",
    "    print(\"你不理额额就走了!\")\n",
    "    \n",
    "hello(\"张三\")\n",
    "hello(\"清风明月\")"
   ]
  },
  {
   "cell_type": "code",
   "execution_count": null,
   "metadata": {},
   "outputs": [],
   "source": [
    "# 参数的使用\n",
    "# 参数person只是一个符号，代表调用的时候的某一个数据\n",
    "\n",
    "def hello(person):\n",
    "    print(\"{0},你肿么了？\".format(person))\n",
    "    print(\"你不理额额就走了!\")\n",
    "    return \"我已经和{0}打好招呼了\".format(person)\n",
    "    \n",
    "print(hello(\"张三\"))\n"
   ]
  },
  {
   "cell_type": "code",
   "execution_count": null,
   "metadata": {},
   "outputs": [],
   "source": [
    "# return案例2\n",
    "def hello(person):\n",
    "    print(\"{0},你肿么了？\".format(person))\n",
    "    return(\"哈哈，我已经提前结束了\")\n",
    "    print(\"你不理额额就走了!\")\n",
    "    return \"我已经和{0}打好招呼了\".format(person)\n",
    "    \n",
    "print(hello(\"张三\"))\n"
   ]
  },
  {
   "cell_type": "code",
   "execution_count": null,
   "metadata": {},
   "outputs": [],
   "source": [
    "#实现一个九九乘法表\n",
    "# version 1.0\n",
    "for i in range(1,10):\n",
    "    for j in range(1,i+1):\n",
    "        x = i * j\n",
    "        print(\"{0} x {1} = {2}\".format(j,i,x), end =\" \")\n",
    "    print(\"\")    #每行打印完要换一行\n",
    " "
   ]
  },
  {
   "cell_type": "code",
   "execution_count": null,
   "metadata": {},
   "outputs": [],
   "source": [
    "help(print)"
   ]
  },
  {
   "cell_type": "markdown",
   "metadata": {},
   "source": [
    "## 参数详解\n",
    "- [参考资料](https://www.cnblogs.com/bingabcd/p/6671368.html)\n",
    "- python参考资料： headfirst python  -> 零基础学习python （小甲鱼）-> 习题 -> 后期可以考虑腾讯免费公开课\n",
    "- 参数分类\n",
    "    - 普通参数 (位置参数）\n",
    "    - 默认参数\n",
    "    - 关键字参数\n",
    "    - 收集参数\n",
    "- 普通参数\n",
    "    - 定义的时候直接定义变量名\n",
    "    - 调用的时候直接把变量或者值放入指定位置\n",
    "- 默认参数\n",
    "    - 形参带有默认值\n",
    "    - 调用的时候，如果没有对相应形参赋值，则使用默认值\n",
    "    def func kname (p1=v1, p2=v2....):\n",
    "        func_block (代码块）\n",
    "        #调用1\n",
    "        func_name()\n",
    "        \n",
    "        #调用2\n",
    "        value1 = 100\n",
    "        value2 = 200\n",
    "        func_name(value1,value2)\n",
    "        "
   ]
  },
  {
   "cell_type": "code",
   "execution_count": 4,
   "metadata": {},
   "outputs": [
    {
     "name": "stdout",
     "output_type": "stream",
     "text": [
      "zhangshan\n",
      "20\n",
      "male\n",
      "zhangshan\n",
      "20\n",
      "female\n"
     ]
    }
   ],
   "source": [
    "#默认参数示例\n",
    "def reg(name,age,gendar='male'):\n",
    "    print(name)\n",
    "    print(age)\n",
    "    print(gendar)\n",
    "    \n",
    "    \n",
    "name = \"zhangshan\"\n",
    "age = 20\n",
    "gendar = \"female\"\n",
    "reg(name,age)\n",
    "reg(name,age,gendar)"
   ]
  },
  {
   "cell_type": "code",
   "execution_count": 24,
   "metadata": {},
   "outputs": [
    {
     "name": "stdout",
     "output_type": "stream",
     "text": [
      "1: 1\n",
      "2: (2, 3, 4)\n",
      "3: {}\n",
      "1: 1\n",
      "2: ()\n",
      "3: {'a': 1, 'b': 2, 'c': 3}\n",
      "1: 1\n",
      "2: (2, 3, 4)\n",
      "3: {'a': 1, 'b': 2, 'c': 3}\n"
     ]
    }
   ],
   "source": [
    "def foo(x,*args,**kwargs):\n",
    "    print('1:',x)\n",
    "    print('2:',args)\n",
    "    print('3:',kwargs)\n",
    "    \n",
    "foo(1,2,3,4)\n",
    "foo(1,a=1,b=2,c=3)\n",
    "foo(1,2,3,4, a=1,b=2,c=3)"
   ]
  },
  {
   "cell_type": "code",
   "execution_count": 18,
   "metadata": {},
   "outputs": [
    {
     "name": "stdout",
     "output_type": "stream",
     "text": [
      "x= 1\n",
      "args =  (2, 3, 4)\n",
      "kwargs =  {}\n",
      "---------------------------------------\n",
      "x= 1\n",
      "args =  ()\n",
      "kwargs =  {'a': 1, 'b': 2, 'c': 3}\n",
      "---------------------------------------\n",
      "x= 1\n",
      "args =  (2, 3, 4)\n",
      "kwargs =  {'a': 1, 'b': 2, 'c': 3}\n",
      "---------------------------------------\n",
      "x= a\n",
      "args =  (1, None)\n",
      "kwargs =  {'a': 1, 'b': '2', 'c': 3}\n",
      "---------------------------------------\n"
     ]
    }
   ],
   "source": [
    "def foo(x,*args, **kwargs):\n",
    "    print('x=',x)\n",
    "    print('args = ', args)\n",
    "    print('kwargs = ', kwargs)\n",
    "    print('---------------------------------------')\n",
    "\n",
    "if __name__ == '__main__':\n",
    "    foo(1,2,3,4)\n",
    "    foo(1,a=1,b=2,c=3)\n",
    "    foo(1,2,3,4, a=1,b=2,c=3)\n",
    "    foo('a', 1, None, a=1, b='2', c=3)"
   ]
  }
 ],
 "metadata": {
  "kernelspec": {
   "display_name": "Python 3",
   "language": "python",
   "name": "python3"
  },
  "language_info": {
   "codemirror_mode": {
    "name": "ipython",
    "version": 3
   },
   "file_extension": ".py",
   "mimetype": "text/x-python",
   "name": "python",
   "nbconvert_exporter": "python",
   "pygments_lexer": "ipython3",
   "version": "3.6.5"
  }
 },
 "nbformat": 4,
 "nbformat_minor": 2
}
